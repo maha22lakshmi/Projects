{
 "cells": [
  {
   "cell_type": "code",
   "execution_count": 1,
   "id": "1571137f",
   "metadata": {},
   "outputs": [],
   "source": [
    "import pandas as pd\n",
    "import numpy as np\n",
    "from statsmodels.tsa.vector_ar.var_model import VAR"
   ]
  },
  {
   "cell_type": "code",
   "execution_count": 2,
   "id": "8fdb025f",
   "metadata": {},
   "outputs": [],
   "source": [
    "\n",
    "df = pd.read_csv(\"D:/Masters/Research/DataCoSupplyChainDataset.csv\", encoding='latin1')\n"
   ]
  },
  {
   "cell_type": "code",
   "execution_count": 3,
   "id": "64a96e17",
   "metadata": {},
   "outputs": [],
   "source": [
    "# \n",
    "df = df.drop(columns=['shipping date (DateOrders)','Date1'])\n",
    "\n",
    "# df = df.drop(columns=[\"Path\"])\n",
    "\n"
   ]
  },
  {
   "cell_type": "code",
   "execution_count": 4,
   "id": "e9566a4f",
   "metadata": {},
   "outputs": [],
   "source": [
    "# df2=df.tail(1000)"
   ]
  },
  {
   "cell_type": "code",
   "execution_count": 5,
   "id": "6ef9d532",
   "metadata": {},
   "outputs": [
    {
     "data": {
      "text/html": [
       "<div>\n",
       "<style scoped>\n",
       "    .dataframe tbody tr th:only-of-type {\n",
       "        vertical-align: middle;\n",
       "    }\n",
       "\n",
       "    .dataframe tbody tr th {\n",
       "        vertical-align: top;\n",
       "    }\n",
       "\n",
       "    .dataframe thead th {\n",
       "        text-align: right;\n",
       "    }\n",
       "</style>\n",
       "<table border=\"1\" class=\"dataframe\">\n",
       "  <thead>\n",
       "    <tr style=\"text-align: right;\">\n",
       "      <th></th>\n",
       "      <th>Days for shipping (real)</th>\n",
       "      <th>Days for shipment (scheduled)</th>\n",
       "      <th>Customer City</th>\n",
       "      <th>Customer Zipcode</th>\n",
       "      <th>Latitude</th>\n",
       "      <th>Longitude</th>\n",
       "      <th>Order City</th>\n",
       "      <th>Date</th>\n",
       "      <th>Time</th>\n",
       "    </tr>\n",
       "  </thead>\n",
       "  <tbody>\n",
       "    <tr>\n",
       "      <th>0</th>\n",
       "      <td>5</td>\n",
       "      <td>4</td>\n",
       "      <td>Caguas</td>\n",
       "      <td>725.0</td>\n",
       "      <td>18.279451</td>\n",
       "      <td>-66.037064</td>\n",
       "      <td>Bikaner</td>\n",
       "      <td>18-01-2018</td>\n",
       "      <td>12:27</td>\n",
       "    </tr>\n",
       "    <tr>\n",
       "      <th>1</th>\n",
       "      <td>4</td>\n",
       "      <td>4</td>\n",
       "      <td>San Jose</td>\n",
       "      <td>95125.0</td>\n",
       "      <td>37.292233</td>\n",
       "      <td>-121.881279</td>\n",
       "      <td>Bikaner</td>\n",
       "      <td>17-01-2018</td>\n",
       "      <td>12:06</td>\n",
       "    </tr>\n",
       "    <tr>\n",
       "      <th>2</th>\n",
       "      <td>3</td>\n",
       "      <td>4</td>\n",
       "      <td>Los Angeles</td>\n",
       "      <td>90027.0</td>\n",
       "      <td>34.125946</td>\n",
       "      <td>-118.291016</td>\n",
       "      <td>Townsville</td>\n",
       "      <td>16-01-2018</td>\n",
       "      <td>11:45</td>\n",
       "    </tr>\n",
       "    <tr>\n",
       "      <th>3</th>\n",
       "      <td>2</td>\n",
       "      <td>4</td>\n",
       "      <td>Caguas</td>\n",
       "      <td>725.0</td>\n",
       "      <td>18.253769</td>\n",
       "      <td>-66.037048</td>\n",
       "      <td>Townsville</td>\n",
       "      <td>15-01-2018</td>\n",
       "      <td>11:24</td>\n",
       "    </tr>\n",
       "    <tr>\n",
       "      <th>4</th>\n",
       "      <td>6</td>\n",
       "      <td>4</td>\n",
       "      <td>Tonawanda</td>\n",
       "      <td>14150.0</td>\n",
       "      <td>43.013969</td>\n",
       "      <td>-78.879066</td>\n",
       "      <td>Toowoomba</td>\n",
       "      <td>19-01-2018</td>\n",
       "      <td>11:03</td>\n",
       "    </tr>\n",
       "    <tr>\n",
       "      <th>...</th>\n",
       "      <td>...</td>\n",
       "      <td>...</td>\n",
       "      <td>...</td>\n",
       "      <td>...</td>\n",
       "      <td>...</td>\n",
       "      <td>...</td>\n",
       "      <td>...</td>\n",
       "      <td>...</td>\n",
       "      <td>...</td>\n",
       "    </tr>\n",
       "    <tr>\n",
       "      <th>108958</th>\n",
       "      <td>4</td>\n",
       "      <td>4</td>\n",
       "      <td>Brooklyn</td>\n",
       "      <td>11207.0</td>\n",
       "      <td>40.640930</td>\n",
       "      <td>-73.942711</td>\n",
       "      <td>Shanghái</td>\n",
       "      <td>2016-01-20</td>\n",
       "      <td>03:40</td>\n",
       "    </tr>\n",
       "    <tr>\n",
       "      <th>108959</th>\n",
       "      <td>3</td>\n",
       "      <td>2</td>\n",
       "      <td>Bakersfield</td>\n",
       "      <td>93304.0</td>\n",
       "      <td>35.362545</td>\n",
       "      <td>-119.018700</td>\n",
       "      <td>Hirakata</td>\n",
       "      <td>2016-01-19</td>\n",
       "      <td>01:34</td>\n",
       "    </tr>\n",
       "    <tr>\n",
       "      <th>108960</th>\n",
       "      <td>5</td>\n",
       "      <td>4</td>\n",
       "      <td>Bristol</td>\n",
       "      <td>6010.0</td>\n",
       "      <td>41.629959</td>\n",
       "      <td>-72.967155</td>\n",
       "      <td>Adelaide</td>\n",
       "      <td>2016-01-20</td>\n",
       "      <td>21:00</td>\n",
       "    </tr>\n",
       "    <tr>\n",
       "      <th>108961</th>\n",
       "      <td>3</td>\n",
       "      <td>4</td>\n",
       "      <td>Caguas</td>\n",
       "      <td>725.0</td>\n",
       "      <td>18.213350</td>\n",
       "      <td>-66.370575</td>\n",
       "      <td>Adelaide</td>\n",
       "      <td>2016-01-18</td>\n",
       "      <td>20:18</td>\n",
       "    </tr>\n",
       "    <tr>\n",
       "      <th>108962</th>\n",
       "      <td>4</td>\n",
       "      <td>4</td>\n",
       "      <td>Caguas</td>\n",
       "      <td>725.0</td>\n",
       "      <td>18.290380</td>\n",
       "      <td>-66.370613</td>\n",
       "      <td>Nagercoil</td>\n",
       "      <td>2016-01-19</td>\n",
       "      <td>18:54</td>\n",
       "    </tr>\n",
       "  </tbody>\n",
       "</table>\n",
       "<p>108963 rows × 9 columns</p>\n",
       "</div>"
      ],
      "text/plain": [
       "        Days for shipping (real)  Days for shipment (scheduled) Customer City  \\\n",
       "0                              5                              4        Caguas   \n",
       "1                              4                              4      San Jose   \n",
       "2                              3                              4   Los Angeles   \n",
       "3                              2                              4        Caguas   \n",
       "4                              6                              4     Tonawanda   \n",
       "...                          ...                            ...           ...   \n",
       "108958                         4                              4      Brooklyn   \n",
       "108959                         3                              2   Bakersfield   \n",
       "108960                         5                              4       Bristol   \n",
       "108961                         3                              4        Caguas   \n",
       "108962                         4                              4        Caguas   \n",
       "\n",
       "        Customer Zipcode   Latitude   Longitude  Order City        Date   Time  \n",
       "0                  725.0  18.279451  -66.037064     Bikaner  18-01-2018  12:27  \n",
       "1                95125.0  37.292233 -121.881279     Bikaner  17-01-2018  12:06  \n",
       "2                90027.0  34.125946 -118.291016  Townsville  16-01-2018  11:45  \n",
       "3                  725.0  18.253769  -66.037048  Townsville  15-01-2018  11:24  \n",
       "4                14150.0  43.013969  -78.879066   Toowoomba  19-01-2018  11:03  \n",
       "...                  ...        ...         ...         ...         ...    ...  \n",
       "108958           11207.0  40.640930  -73.942711    Shanghái  2016-01-20  03:40  \n",
       "108959           93304.0  35.362545 -119.018700    Hirakata  2016-01-19  01:34  \n",
       "108960            6010.0  41.629959  -72.967155    Adelaide  2016-01-20  21:00  \n",
       "108961             725.0  18.213350  -66.370575    Adelaide  2016-01-18  20:18  \n",
       "108962             725.0  18.290380  -66.370613   Nagercoil  2016-01-19  18:54  \n",
       "\n",
       "[108963 rows x 9 columns]"
      ]
     },
     "execution_count": 5,
     "metadata": {},
     "output_type": "execute_result"
    }
   ],
   "source": [
    "df"
   ]
  },
  {
   "cell_type": "code",
   "execution_count": 6,
   "id": "125ab987",
   "metadata": {},
   "outputs": [],
   "source": [
    "df.to_csv(\"D:/Masters/Research/file.csv\")"
   ]
  },
  {
   "cell_type": "code",
   "execution_count": 7,
   "id": "9b3656a6",
   "metadata": {},
   "outputs": [
    {
     "name": "stdout",
     "output_type": "stream",
     "text": [
      "<class 'pandas.core.frame.DataFrame'>\n",
      "RangeIndex: 108963 entries, 0 to 108962\n",
      "Data columns (total 9 columns):\n",
      " #   Column                         Non-Null Count   Dtype  \n",
      "---  ------                         --------------   -----  \n",
      " 0   Days for shipping (real)       108963 non-null  int64  \n",
      " 1   Days for shipment (scheduled)  108963 non-null  int64  \n",
      " 2   Customer City                  108963 non-null  object \n",
      " 3   Customer Zipcode               108961 non-null  float64\n",
      " 4   Latitude                       108963 non-null  float64\n",
      " 5   Longitude                      108963 non-null  float64\n",
      " 6   Order City                     108963 non-null  object \n",
      " 7   Date                           108963 non-null  object \n",
      " 8   Time                           108963 non-null  object \n",
      "dtypes: float64(3), int64(2), object(4)\n",
      "memory usage: 7.5+ MB\n"
     ]
    }
   ],
   "source": [
    "df.info()"
   ]
  },
  {
   "cell_type": "code",
   "execution_count": 8,
   "id": "744a77ae",
   "metadata": {},
   "outputs": [],
   "source": [
    "# df=df2"
   ]
  },
  {
   "cell_type": "code",
   "execution_count": 9,
   "id": "feeeb508",
   "metadata": {},
   "outputs": [],
   "source": [
    "import pandas as pd\n",
    "import networkx as nx\n",
    "from geopy.distance import geodesic\n",
    "from opencage.geocoder import OpenCageGeocode"
   ]
  },
  {
   "cell_type": "code",
   "execution_count": 41,
   "id": "b0f21375",
   "metadata": {},
   "outputs": [],
   "source": [
    "OPENCAGE_API_KEY = '3b064737ec0b4c8fbd0934057b25823f'"
   ]
  },
  {
   "cell_type": "code",
   "execution_count": 42,
   "id": "324b380e",
   "metadata": {},
   "outputs": [],
   "source": [
    "geocoder = OpenCageGeocode(OPENCAGE_API_KEY)"
   ]
  },
  {
   "cell_type": "code",
   "execution_count": 43,
   "id": "b98dea5d",
   "metadata": {},
   "outputs": [],
   "source": [
    "def get_coordinates(city):\n",
    "    result = geocoder.geocode(city)\n",
    "    if result and len(result):\n",
    "        return result[0]['geometry']['lat'], result[0]['geometry']['lng']\n",
    "    else:\n",
    "        return None, None"
   ]
  },
  {
   "cell_type": "code",
   "execution_count": 44,
   "id": "e4c51bcd",
   "metadata": {},
   "outputs": [
    {
     "data": {
      "text/plain": [
       "array(['Bikaner', 'Townsville', 'Toowoomba', ..., 'Morganton', 'CA',\n",
       "       'Sumner'], dtype=object)"
      ]
     },
     "execution_count": 44,
     "metadata": {},
     "output_type": "execute_result"
    }
   ],
   "source": [
    "unique_cities = pd.concat([df['Order City'], df['Customer City']]).unique()\n",
    "unique_cities"
   ]
  },
  {
   "cell_type": "code",
   "execution_count": null,
   "id": "94003974",
   "metadata": {},
   "outputs": [],
   "source": [
    "# Create a dictionary to store coordinates of cities\n",
    "city_coords = {}\n",
    "for city in unique_cities:\n",
    "    lat, lon = get_coordinates(city)\n",
    "    if lat is not None and lon is not None:\n",
    "        city_coords[city] = (lat, lon)"
   ]
  },
  {
   "cell_type": "code",
   "execution_count": null,
   "id": "5dc38609",
   "metadata": {},
   "outputs": [],
   "source": [
    "city_coords"
   ]
  },
  {
   "cell_type": "code",
   "execution_count": null,
   "id": "f4b6e925",
   "metadata": {},
   "outputs": [],
   "source": [
    "cords=pd.DataFrame(city_coords).T\n",
    "cords[\"Place\"]=cords.index\n",
    "cords.to_csv(\"D:/Masters/Research/cords.csv\")\n"
   ]
  },
  {
   "cell_type": "code",
   "execution_count": 17,
   "id": "a16a552e",
   "metadata": {},
   "outputs": [],
   "source": [
    "# cords=pd.read_csv(\"D:/Masters/Research/cords.csv\")\n",
    "cords=pd.read_csv(\"D:/Masters/Research/cords.csv\")"
   ]
  },
  {
   "cell_type": "code",
   "execution_count": 40,
   "id": "0aa7cf12",
   "metadata": {},
   "outputs": [
    {
     "data": {
      "text/html": [
       "<div>\n",
       "<style scoped>\n",
       "    .dataframe tbody tr th:only-of-type {\n",
       "        vertical-align: middle;\n",
       "    }\n",
       "\n",
       "    .dataframe tbody tr th {\n",
       "        vertical-align: top;\n",
       "    }\n",
       "\n",
       "    .dataframe thead th {\n",
       "        text-align: right;\n",
       "    }\n",
       "</style>\n",
       "<table border=\"1\" class=\"dataframe\">\n",
       "  <thead>\n",
       "    <tr style=\"text-align: right;\">\n",
       "      <th></th>\n",
       "      <th>Unnamed: 0</th>\n",
       "      <th>0</th>\n",
       "      <th>1</th>\n",
       "      <th>Place</th>\n",
       "    </tr>\n",
       "  </thead>\n",
       "  <tbody>\n",
       "    <tr>\n",
       "      <th>0</th>\n",
       "      <td>Santo Domingo</td>\n",
       "      <td>18.480197</td>\n",
       "      <td>-69.942111</td>\n",
       "      <td>0</td>\n",
       "    </tr>\n",
       "    <tr>\n",
       "      <th>1</th>\n",
       "      <td>Cuernavaca</td>\n",
       "      <td>18.921827</td>\n",
       "      <td>-99.234228</td>\n",
       "      <td>1</td>\n",
       "    </tr>\n",
       "    <tr>\n",
       "      <th>2</th>\n",
       "      <td>Guadalajara</td>\n",
       "      <td>20.672037</td>\n",
       "      <td>-103.338396</td>\n",
       "      <td>2</td>\n",
       "    </tr>\n",
       "    <tr>\n",
       "      <th>3</th>\n",
       "      <td>Montevideo</td>\n",
       "      <td>-34.905892</td>\n",
       "      <td>-56.191310</td>\n",
       "      <td>3</td>\n",
       "    </tr>\n",
       "    <tr>\n",
       "      <th>4</th>\n",
       "      <td>Las Tunas</td>\n",
       "      <td>21.088704</td>\n",
       "      <td>-76.812165</td>\n",
       "      <td>4</td>\n",
       "    </tr>\n",
       "    <tr>\n",
       "      <th>...</th>\n",
       "      <td>...</td>\n",
       "      <td>...</td>\n",
       "      <td>...</td>\n",
       "      <td>...</td>\n",
       "    </tr>\n",
       "    <tr>\n",
       "      <th>667</th>\n",
       "      <td>Roswell</td>\n",
       "      <td>34.023320</td>\n",
       "      <td>-84.360022</td>\n",
       "      <td>667</td>\n",
       "    </tr>\n",
       "    <tr>\n",
       "      <th>668</th>\n",
       "      <td>Lindenhurst</td>\n",
       "      <td>40.686767</td>\n",
       "      <td>-73.373455</td>\n",
       "      <td>668</td>\n",
       "    </tr>\n",
       "    <tr>\n",
       "      <th>669</th>\n",
       "      <td>Vista</td>\n",
       "      <td>33.202128</td>\n",
       "      <td>-117.242479</td>\n",
       "      <td>669</td>\n",
       "    </tr>\n",
       "    <tr>\n",
       "      <th>670</th>\n",
       "      <td>Waipahu</td>\n",
       "      <td>21.386667</td>\n",
       "      <td>-158.009166</td>\n",
       "      <td>670</td>\n",
       "    </tr>\n",
       "    <tr>\n",
       "      <th>671</th>\n",
       "      <td>Bristol</td>\n",
       "      <td>51.453802</td>\n",
       "      <td>-2.597298</td>\n",
       "      <td>671</td>\n",
       "    </tr>\n",
       "  </tbody>\n",
       "</table>\n",
       "<p>672 rows × 4 columns</p>\n",
       "</div>"
      ],
      "text/plain": [
       "        Unnamed: 0          0           1  Place\n",
       "0    Santo Domingo  18.480197  -69.942111      0\n",
       "1       Cuernavaca  18.921827  -99.234228      1\n",
       "2      Guadalajara  20.672037 -103.338396      2\n",
       "3       Montevideo -34.905892  -56.191310      3\n",
       "4        Las Tunas  21.088704  -76.812165      4\n",
       "..             ...        ...         ...    ...\n",
       "667        Roswell  34.023320  -84.360022    667\n",
       "668    Lindenhurst  40.686767  -73.373455    668\n",
       "669          Vista  33.202128 -117.242479    669\n",
       "670        Waipahu  21.386667 -158.009166    670\n",
       "671        Bristol  51.453802   -2.597298    671\n",
       "\n",
       "[672 rows x 4 columns]"
      ]
     },
     "execution_count": 40,
     "metadata": {},
     "output_type": "execute_result"
    }
   ],
   "source": [
    "cords"
   ]
  },
  {
   "cell_type": "code",
   "execution_count": 38,
   "id": "1ac93f4e",
   "metadata": {},
   "outputs": [],
   "source": [
    "# Create a list of city names and their coordinates\n",
    "city_names = list(city_coords.keys())\n",
    "coords = np.array(list(city_coords.values()))"
   ]
  },
  {
   "cell_type": "code",
   "execution_count": 39,
   "id": "4988aceb",
   "metadata": {},
   "outputs": [
    {
     "ename": "ValueError",
     "evalue": "Expected 2D array, got 1D array instead:\narray=[].\nReshape your data either using array.reshape(-1, 1) if your data has a single feature or array.reshape(1, -1) if it contains a single sample.",
     "output_type": "error",
     "traceback": [
      "\u001b[1;31m---------------------------------------------------------------------------\u001b[0m",
      "\u001b[1;31mValueError\u001b[0m                                Traceback (most recent call last)",
      "Cell \u001b[1;32mIn[39], line 8\u001b[0m\n\u001b[0;32m      6\u001b[0m \u001b[38;5;66;03m# Use NearestNeighbors to find the nearest N cities for each city\u001b[39;00m\n\u001b[0;32m      7\u001b[0m N \u001b[38;5;241m=\u001b[39m \u001b[38;5;241m5\u001b[39m  \u001b[38;5;66;03m# Number of nearest neighbors\u001b[39;00m\n\u001b[1;32m----> 8\u001b[0m nbrs \u001b[38;5;241m=\u001b[39m NearestNeighbors(n_neighbors\u001b[38;5;241m=\u001b[39mN, algorithm\u001b[38;5;241m=\u001b[39m\u001b[38;5;124m'\u001b[39m\u001b[38;5;124mball_tree\u001b[39m\u001b[38;5;124m'\u001b[39m)\u001b[38;5;241m.\u001b[39mfit(coords)\n\u001b[0;32m      9\u001b[0m distances, indices \u001b[38;5;241m=\u001b[39m nbrs\u001b[38;5;241m.\u001b[39mkneighbors(coords)\n",
      "File \u001b[1;32m~\\anaconda3\\Lib\\site-packages\\sklearn\\base.py:1151\u001b[0m, in \u001b[0;36m_fit_context.<locals>.decorator.<locals>.wrapper\u001b[1;34m(estimator, *args, **kwargs)\u001b[0m\n\u001b[0;32m   1144\u001b[0m     estimator\u001b[38;5;241m.\u001b[39m_validate_params()\n\u001b[0;32m   1146\u001b[0m \u001b[38;5;28;01mwith\u001b[39;00m config_context(\n\u001b[0;32m   1147\u001b[0m     skip_parameter_validation\u001b[38;5;241m=\u001b[39m(\n\u001b[0;32m   1148\u001b[0m         prefer_skip_nested_validation \u001b[38;5;129;01mor\u001b[39;00m global_skip_validation\n\u001b[0;32m   1149\u001b[0m     )\n\u001b[0;32m   1150\u001b[0m ):\n\u001b[1;32m-> 1151\u001b[0m     \u001b[38;5;28;01mreturn\u001b[39;00m fit_method(estimator, \u001b[38;5;241m*\u001b[39margs, \u001b[38;5;241m*\u001b[39m\u001b[38;5;241m*\u001b[39mkwargs)\n",
      "File \u001b[1;32m~\\anaconda3\\Lib\\site-packages\\sklearn\\neighbors\\_unsupervised.py:178\u001b[0m, in \u001b[0;36mNearestNeighbors.fit\u001b[1;34m(self, X, y)\u001b[0m\n\u001b[0;32m    157\u001b[0m \u001b[38;5;129m@_fit_context\u001b[39m(\n\u001b[0;32m    158\u001b[0m     \u001b[38;5;66;03m# NearestNeighbors.metric is not validated yet\u001b[39;00m\n\u001b[0;32m    159\u001b[0m     prefer_skip_nested_validation\u001b[38;5;241m=\u001b[39m\u001b[38;5;28;01mFalse\u001b[39;00m\n\u001b[0;32m    160\u001b[0m )\n\u001b[0;32m    161\u001b[0m \u001b[38;5;28;01mdef\u001b[39;00m \u001b[38;5;21mfit\u001b[39m(\u001b[38;5;28mself\u001b[39m, X, y\u001b[38;5;241m=\u001b[39m\u001b[38;5;28;01mNone\u001b[39;00m):\n\u001b[0;32m    162\u001b[0m \u001b[38;5;250m    \u001b[39m\u001b[38;5;124;03m\"\"\"Fit the nearest neighbors estimator from the training dataset.\u001b[39;00m\n\u001b[0;32m    163\u001b[0m \n\u001b[0;32m    164\u001b[0m \u001b[38;5;124;03m    Parameters\u001b[39;00m\n\u001b[1;32m   (...)\u001b[0m\n\u001b[0;32m    176\u001b[0m \u001b[38;5;124;03m        The fitted nearest neighbors estimator.\u001b[39;00m\n\u001b[0;32m    177\u001b[0m \u001b[38;5;124;03m    \"\"\"\u001b[39;00m\n\u001b[1;32m--> 178\u001b[0m     \u001b[38;5;28;01mreturn\u001b[39;00m \u001b[38;5;28mself\u001b[39m\u001b[38;5;241m.\u001b[39m_fit(X)\n",
      "File \u001b[1;32m~\\anaconda3\\Lib\\site-packages\\sklearn\\neighbors\\_base.py:498\u001b[0m, in \u001b[0;36mNeighborsBase._fit\u001b[1;34m(self, X, y)\u001b[0m\n\u001b[0;32m    496\u001b[0m \u001b[38;5;28;01melse\u001b[39;00m:\n\u001b[0;32m    497\u001b[0m     \u001b[38;5;28;01mif\u001b[39;00m \u001b[38;5;129;01mnot\u001b[39;00m \u001b[38;5;28misinstance\u001b[39m(X, (KDTree, BallTree, NeighborsBase)):\n\u001b[1;32m--> 498\u001b[0m         X \u001b[38;5;241m=\u001b[39m \u001b[38;5;28mself\u001b[39m\u001b[38;5;241m.\u001b[39m_validate_data(X, accept_sparse\u001b[38;5;241m=\u001b[39m\u001b[38;5;124m\"\u001b[39m\u001b[38;5;124mcsr\u001b[39m\u001b[38;5;124m\"\u001b[39m, order\u001b[38;5;241m=\u001b[39m\u001b[38;5;124m\"\u001b[39m\u001b[38;5;124mC\u001b[39m\u001b[38;5;124m\"\u001b[39m)\n\u001b[0;32m    500\u001b[0m \u001b[38;5;28mself\u001b[39m\u001b[38;5;241m.\u001b[39m_check_algorithm_metric()\n\u001b[0;32m    501\u001b[0m \u001b[38;5;28;01mif\u001b[39;00m \u001b[38;5;28mself\u001b[39m\u001b[38;5;241m.\u001b[39mmetric_params \u001b[38;5;129;01mis\u001b[39;00m \u001b[38;5;28;01mNone\u001b[39;00m:\n",
      "File \u001b[1;32m~\\anaconda3\\Lib\\site-packages\\sklearn\\base.py:604\u001b[0m, in \u001b[0;36mBaseEstimator._validate_data\u001b[1;34m(self, X, y, reset, validate_separately, cast_to_ndarray, **check_params)\u001b[0m\n\u001b[0;32m    602\u001b[0m         out \u001b[38;5;241m=\u001b[39m X, y\n\u001b[0;32m    603\u001b[0m \u001b[38;5;28;01melif\u001b[39;00m \u001b[38;5;129;01mnot\u001b[39;00m no_val_X \u001b[38;5;129;01mand\u001b[39;00m no_val_y:\n\u001b[1;32m--> 604\u001b[0m     out \u001b[38;5;241m=\u001b[39m check_array(X, input_name\u001b[38;5;241m=\u001b[39m\u001b[38;5;124m\"\u001b[39m\u001b[38;5;124mX\u001b[39m\u001b[38;5;124m\"\u001b[39m, \u001b[38;5;241m*\u001b[39m\u001b[38;5;241m*\u001b[39mcheck_params)\n\u001b[0;32m    605\u001b[0m \u001b[38;5;28;01melif\u001b[39;00m no_val_X \u001b[38;5;129;01mand\u001b[39;00m \u001b[38;5;129;01mnot\u001b[39;00m no_val_y:\n\u001b[0;32m    606\u001b[0m     out \u001b[38;5;241m=\u001b[39m _check_y(y, \u001b[38;5;241m*\u001b[39m\u001b[38;5;241m*\u001b[39mcheck_params)\n",
      "File \u001b[1;32m~\\anaconda3\\Lib\\site-packages\\sklearn\\utils\\validation.py:940\u001b[0m, in \u001b[0;36mcheck_array\u001b[1;34m(array, accept_sparse, accept_large_sparse, dtype, order, copy, force_all_finite, ensure_2d, allow_nd, ensure_min_samples, ensure_min_features, estimator, input_name)\u001b[0m\n\u001b[0;32m    938\u001b[0m     \u001b[38;5;66;03m# If input is 1D raise error\u001b[39;00m\n\u001b[0;32m    939\u001b[0m     \u001b[38;5;28;01mif\u001b[39;00m array\u001b[38;5;241m.\u001b[39mndim \u001b[38;5;241m==\u001b[39m \u001b[38;5;241m1\u001b[39m:\n\u001b[1;32m--> 940\u001b[0m         \u001b[38;5;28;01mraise\u001b[39;00m \u001b[38;5;167;01mValueError\u001b[39;00m(\n\u001b[0;32m    941\u001b[0m             \u001b[38;5;124m\"\u001b[39m\u001b[38;5;124mExpected 2D array, got 1D array instead:\u001b[39m\u001b[38;5;130;01m\\n\u001b[39;00m\u001b[38;5;124marray=\u001b[39m\u001b[38;5;132;01m{}\u001b[39;00m\u001b[38;5;124m.\u001b[39m\u001b[38;5;130;01m\\n\u001b[39;00m\u001b[38;5;124m\"\u001b[39m\n\u001b[0;32m    942\u001b[0m             \u001b[38;5;124m\"\u001b[39m\u001b[38;5;124mReshape your data either using array.reshape(-1, 1) if \u001b[39m\u001b[38;5;124m\"\u001b[39m\n\u001b[0;32m    943\u001b[0m             \u001b[38;5;124m\"\u001b[39m\u001b[38;5;124myour data has a single feature or array.reshape(1, -1) \u001b[39m\u001b[38;5;124m\"\u001b[39m\n\u001b[0;32m    944\u001b[0m             \u001b[38;5;124m\"\u001b[39m\u001b[38;5;124mif it contains a single sample.\u001b[39m\u001b[38;5;124m\"\u001b[39m\u001b[38;5;241m.\u001b[39mformat(array)\n\u001b[0;32m    945\u001b[0m         )\n\u001b[0;32m    947\u001b[0m \u001b[38;5;28;01mif\u001b[39;00m dtype_numeric \u001b[38;5;129;01mand\u001b[39;00m \u001b[38;5;28mhasattr\u001b[39m(array\u001b[38;5;241m.\u001b[39mdtype, \u001b[38;5;124m\"\u001b[39m\u001b[38;5;124mkind\u001b[39m\u001b[38;5;124m\"\u001b[39m) \u001b[38;5;129;01mand\u001b[39;00m array\u001b[38;5;241m.\u001b[39mdtype\u001b[38;5;241m.\u001b[39mkind \u001b[38;5;129;01min\u001b[39;00m \u001b[38;5;124m\"\u001b[39m\u001b[38;5;124mUSV\u001b[39m\u001b[38;5;124m\"\u001b[39m:\n\u001b[0;32m    948\u001b[0m     \u001b[38;5;28;01mraise\u001b[39;00m \u001b[38;5;167;01mValueError\u001b[39;00m(\n\u001b[0;32m    949\u001b[0m         \u001b[38;5;124m\"\u001b[39m\u001b[38;5;124mdtype=\u001b[39m\u001b[38;5;124m'\u001b[39m\u001b[38;5;124mnumeric\u001b[39m\u001b[38;5;124m'\u001b[39m\u001b[38;5;124m is not compatible with arrays of bytes/strings.\u001b[39m\u001b[38;5;124m\"\u001b[39m\n\u001b[0;32m    950\u001b[0m         \u001b[38;5;124m\"\u001b[39m\u001b[38;5;124mConvert your data to numeric values explicitly instead.\u001b[39m\u001b[38;5;124m\"\u001b[39m\n\u001b[0;32m    951\u001b[0m     )\n",
      "\u001b[1;31mValueError\u001b[0m: Expected 2D array, got 1D array instead:\narray=[].\nReshape your data either using array.reshape(-1, 1) if your data has a single feature or array.reshape(1, -1) if it contains a single sample."
     ]
    }
   ],
   "source": [
    "import pandas as pd\n",
    "from geopy.distance import geodesic\n",
    "import networkx as nx\n",
    "from sklearn.neighbors import NearestNeighbors\n",
    "import numpy as np\n",
    "# Use NearestNeighbors to find the nearest N cities for each city\n",
    "N = 5  # Number of nearest neighbors\n",
    "nbrs = NearestNeighbors(n_neighbors=N, algorithm='ball_tree').fit(coords)\n",
    "distances, indices = nbrs.kneighbors(coords)"
   ]
  },
  {
   "cell_type": "code",
   "execution_count": null,
   "id": "9ce358e5",
   "metadata": {},
   "outputs": [],
   "source": [
    "# Create a graph of cities with distances as weights\n",
    "G = nx.Graph()\n",
    "for i, city in enumerate(city_names):\n",
    "    for j in range(1, N):  # Skip the first one because it's the city itself\n",
    "        neighbor_city = city_names[indices[i][j]]\n",
    "        distance = geodesic(city_coords[city], city_coords[neighbor_city]).miles\n",
    "        G.add_edge(city, neighbor_city, weight=distance)"
   ]
  },
  {
   "cell_type": "code",
   "execution_count": null,
   "id": "aec7f2c9",
   "metadata": {},
   "outputs": [],
   "source": [
    "# Function to find the shortest path of cities\n",
    "def find_path(order_city, customer_city):\n",
    "    if order_city not in city_coords or customer_city not in city_coords:\n",
    "        return None\n",
    "    try:\n",
    "        path = nx.shortest_path(G, source=order_city, target=customer_city, weight='weight')\n",
    "        return ' -> '.join(path)\n",
    "    except nx.NetworkXNoPath:\n",
    "        return None"
   ]
  },
  {
   "cell_type": "code",
   "execution_count": null,
   "id": "c938ce39",
   "metadata": {},
   "outputs": [],
   "source": [
    "# Add the path to the dataset\n",
    "df['Path'] = df.apply(lambda row: find_path(row['Order City'], row['Customer City']), axis=1)\n",
    "\n"
   ]
  },
  {
   "cell_type": "code",
   "execution_count": null,
   "id": "8685fd88",
   "metadata": {},
   "outputs": [],
   "source": [
    "df.info()"
   ]
  },
  {
   "cell_type": "code",
   "execution_count": null,
   "id": "6242775f",
   "metadata": {},
   "outputs": [],
   "source": [
    "df2= df.dropna()"
   ]
  },
  {
   "cell_type": "code",
   "execution_count": null,
   "id": "f81c9e73",
   "metadata": {},
   "outputs": [],
   "source": [
    "df2.Path.iloc[1]"
   ]
  },
  {
   "cell_type": "code",
   "execution_count": 20,
   "id": "949e8278",
   "metadata": {
    "scrolled": true
   },
   "outputs": [
    {
     "ename": "NameError",
     "evalue": "name 'df2' is not defined",
     "output_type": "error",
     "traceback": [
      "\u001b[1;31m---------------------------------------------------------------------------\u001b[0m",
      "\u001b[1;31mNameError\u001b[0m                                 Traceback (most recent call last)",
      "Cell \u001b[1;32mIn[20], line 1\u001b[0m\n\u001b[1;32m----> 1\u001b[0m df2\u001b[38;5;241m.\u001b[39minfo()\n",
      "\u001b[1;31mNameError\u001b[0m: name 'df2' is not defined"
     ]
    }
   ],
   "source": [
    "df2.info()"
   ]
  },
  {
   "cell_type": "code",
   "execution_count": 21,
   "id": "ad0d8ad1",
   "metadata": {
    "scrolled": true
   },
   "outputs": [
    {
     "ename": "NameError",
     "evalue": "name 'df2' is not defined",
     "output_type": "error",
     "traceback": [
      "\u001b[1;31m---------------------------------------------------------------------------\u001b[0m",
      "\u001b[1;31mNameError\u001b[0m                                 Traceback (most recent call last)",
      "Cell \u001b[1;32mIn[21], line 2\u001b[0m\n\u001b[0;32m      1\u001b[0m \u001b[38;5;66;03m# Split the Path column into separate columns\u001b[39;00m\n\u001b[1;32m----> 2\u001b[0m path_columns \u001b[38;5;241m=\u001b[39m df2[\u001b[38;5;124m'\u001b[39m\u001b[38;5;124mPath\u001b[39m\u001b[38;5;124m'\u001b[39m]\u001b[38;5;241m.\u001b[39mstr\u001b[38;5;241m.\u001b[39msplit(\u001b[38;5;124m'\u001b[39m\u001b[38;5;124m -> \u001b[39m\u001b[38;5;124m'\u001b[39m, expand\u001b[38;5;241m=\u001b[39m\u001b[38;5;28;01mTrue\u001b[39;00m)\n\u001b[0;32m      5\u001b[0m path_columns\n",
      "\u001b[1;31mNameError\u001b[0m: name 'df2' is not defined"
     ]
    }
   ],
   "source": [
    "\n",
    "# Split the Path column into separate columns\n",
    "path_columns = df2['Path'].str.split(' -> ', expand=True)\n",
    "\n",
    "\n",
    "path_columns"
   ]
  },
  {
   "cell_type": "code",
   "execution_count": 22,
   "id": "b7e4d66b",
   "metadata": {},
   "outputs": [
    {
     "ename": "NameError",
     "evalue": "name 'path_columns' is not defined",
     "output_type": "error",
     "traceback": [
      "\u001b[1;31m---------------------------------------------------------------------------\u001b[0m",
      "\u001b[1;31mNameError\u001b[0m                                 Traceback (most recent call last)",
      "Cell \u001b[1;32mIn[22], line 2\u001b[0m\n\u001b[0;32m      1\u001b[0m \u001b[38;5;66;03m# Assuming df2 is your main DataFrame and path_columns is the DataFrame you want to save inside df2\u001b[39;00m\n\u001b[1;32m----> 2\u001b[0m df2[\u001b[38;5;124m\"\u001b[39m\u001b[38;5;124mPath2\u001b[39m\u001b[38;5;124m\"\u001b[39m] \u001b[38;5;241m=\u001b[39m [pd\u001b[38;5;241m.\u001b[39mDataFrame(path_columns\u001b[38;5;241m.\u001b[39miloc[i]\u001b[38;5;241m.\u001b[39mdropna()) \u001b[38;5;28;01mfor\u001b[39;00m i \u001b[38;5;129;01min\u001b[39;00m \u001b[38;5;28mrange\u001b[39m(\u001b[38;5;28mlen\u001b[39m(path_columns))]\n",
      "\u001b[1;31mNameError\u001b[0m: name 'path_columns' is not defined"
     ]
    }
   ],
   "source": [
    "# Assuming df2 is your main DataFrame and path_columns is the DataFrame you want to save inside df2\n",
    "df2[\"Path2\"] = [pd.DataFrame(path_columns.iloc[i].dropna()) for i in range(len(path_columns))]\n"
   ]
  },
  {
   "cell_type": "code",
   "execution_count": 23,
   "id": "81726073",
   "metadata": {},
   "outputs": [
    {
     "ename": "NameError",
     "evalue": "name 'df2' is not defined",
     "output_type": "error",
     "traceback": [
      "\u001b[1;31m---------------------------------------------------------------------------\u001b[0m",
      "\u001b[1;31mNameError\u001b[0m                                 Traceback (most recent call last)",
      "Cell \u001b[1;32mIn[23], line 1\u001b[0m\n\u001b[1;32m----> 1\u001b[0m df2\n",
      "\u001b[1;31mNameError\u001b[0m: name 'df2' is not defined"
     ]
    }
   ],
   "source": [
    "df2"
   ]
  },
  {
   "cell_type": "code",
   "execution_count": 24,
   "id": "fd8f000d",
   "metadata": {
    "scrolled": true
   },
   "outputs": [
    {
     "ename": "NameError",
     "evalue": "name 'df2' is not defined",
     "output_type": "error",
     "traceback": [
      "\u001b[1;31m---------------------------------------------------------------------------\u001b[0m",
      "\u001b[1;31mNameError\u001b[0m                                 Traceback (most recent call last)",
      "Cell \u001b[1;32mIn[24], line 1\u001b[0m\n\u001b[1;32m----> 1\u001b[0m df2\u001b[38;5;241m.\u001b[39mPath2\u001b[38;5;241m.\u001b[39miloc[\u001b[38;5;241m1\u001b[39m]\u001b[38;5;241m.\u001b[39miloc[\u001b[38;5;241m1\u001b[39m]\n",
      "\u001b[1;31mNameError\u001b[0m: name 'df2' is not defined"
     ]
    }
   ],
   "source": [
    "df2.Path2.iloc[1].iloc[1]"
   ]
  },
  {
   "cell_type": "code",
   "execution_count": 25,
   "id": "4f5b78fa",
   "metadata": {},
   "outputs": [
    {
     "name": "stdout",
     "output_type": "stream",
     "text": [
      "{'queryCost': 144, 'latitude': 25.7748, 'longitude': -80.1977, 'resolvedAddress': 'Miami, FL, United States', 'address': 'Miami', 'timezone': 'America/New_York', 'tzoffset': -5.0, 'days': [{'datetime': '2015-01-11', 'datetimeEpoch': 1420952400, 'tempmax': 78.5, 'tempmin': 70.4, 'temp': 75.0, 'feelslikemax': 78.5, 'feelslikemin': 70.4, 'feelslike': 75.0, 'dew': 67.4, 'humidity': 77.3, 'precip': 0.132, 'precipprob': 100.0, 'precipcover': 25.0, 'preciptype': ['rain'], 'snow': 0.0, 'snowdepth': 0.0, 'windgust': 31.1, 'windspeed': 18.6, 'winddir': 85.8, 'pressure': 1023.9, 'cloudcover': 70.0, 'visibility': 9.8, 'solarradiation': 135.5, 'solarenergy': 11.7, 'uvindex': 5.0, 'sunrise': '07:09:11', 'sunriseEpoch': 1420978151, 'sunset': '17:48:21', 'sunsetEpoch': 1421016501, 'moonphase': 0.71, 'conditions': 'Rain, Partially cloudy', 'description': 'Partly cloudy throughout the day with a chance of rain throughout the day.', 'icon': 'rain', 'stations': ['KHWO', '72202412882', '72203792809', 'KMIA', 'KOPF', '72202012839'], 'source': 'obs', 'hours': [{'datetime': '00:00:00', 'datetimeEpoch': 1420952400, 'temp': 73.2, 'feelslike': 73.2, 'humidity': 72.1, 'dew': 63.7, 'precip': 0.0, 'precipprob': 0.0, 'snow': 0.0, 'snowdepth': 0.0, 'preciptype': None, 'windgust': 23.9, 'windspeed': 12.6, 'winddir': 69.0, 'pressure': 1025.0, 'visibility': 9.9, 'cloudcover': 20.1, 'solarradiation': 0.0, 'solarenergy': 0.0, 'uvindex': 0.0, 'conditions': 'Partially cloudy', 'icon': 'partly-cloudy-night', 'stations': ['KHWO', '72202412882', '72203792809', 'KMIA', 'KOPF', '72202012839'], 'source': 'obs'}, {'datetime': '01:00:00', 'datetimeEpoch': 1420956000, 'temp': 72.7, 'feelslike': 72.7, 'humidity': 74.5, 'dew': 64.1, 'precip': 0.0, 'precipprob': 0.0, 'snow': 0.0, 'snowdepth': 0.0, 'preciptype': None, 'windgust': 22.1, 'windspeed': 8.3, 'winddir': 53.0, 'pressure': 1024.7, 'visibility': 9.9, 'cloudcover': 48.5, 'solarradiation': 0.0, 'solarenergy': 0.0, 'uvindex': 0.0, 'conditions': 'Partially cloudy', 'icon': 'partly-cloudy-night', 'stations': ['KHWO', '72202412882', '72203792809', 'KMIA', 'KOPF', '72202012839'], 'source': 'obs'}, {'datetime': '02:00:00', 'datetimeEpoch': 1420959600, 'temp': 72.1, 'feelslike': 72.1, 'humidity': 79.08, 'dew': 65.3, 'precip': 0.0, 'precipprob': 0.0, 'snow': 0.0, 'snowdepth': 0.0, 'preciptype': None, 'windgust': 17.4, 'windspeed': 7.2, 'winddir': 65.0, 'pressure': 1024.3, 'visibility': 9.9, 'cloudcover': 50.7, 'solarradiation': 0.0, 'solarenergy': 0.0, 'uvindex': 0.0, 'conditions': 'Partially cloudy', 'icon': 'partly-cloudy-night', 'stations': ['KHWO', '72202412882', '72203792809', 'KMIA', 'KOPF', '72202012839'], 'source': 'obs'}, {'datetime': '03:00:00', 'datetimeEpoch': 1420963200, 'temp': 72.7, 'feelslike': 72.7, 'humidity': 79.32, 'dew': 65.9, 'precip': 0.005, 'precipprob': 100.0, 'snow': 0.0, 'snowdepth': 0.0, 'preciptype': ['rain'], 'windgust': 17.0, 'windspeed': 5.7, 'winddir': 46.0, 'pressure': 1024.0, 'visibility': 9.9, 'cloudcover': 66.4, 'solarradiation': 0.0, 'solarenergy': 0.0, 'uvindex': 0.0, 'conditions': 'Rain, Partially cloudy', 'icon': 'rain', 'stations': ['KHWO', '72202412882', '72203792809', 'KMIA', 'KOPF', '72202012839'], 'source': 'obs'}, {'datetime': '04:00:00', 'datetimeEpoch': 1420966800, 'temp': 71.7, 'feelslike': 71.7, 'humidity': 81.93, 'dew': 65.9, 'precip': 0.0, 'precipprob': 0.0, 'snow': 0.0, 'snowdepth': 0.0, 'preciptype': None, 'windgust': 17.0, 'windspeed': 4.5, 'winddir': 42.0, 'pressure': 1023.6, 'visibility': 9.9, 'cloudcover': 78.9, 'solarradiation': 0.0, 'solarenergy': 0.0, 'uvindex': 0.0, 'conditions': 'Partially cloudy', 'icon': 'partly-cloudy-night', 'stations': ['KHWO', '72202412882', '72203792809', 'KMIA', 'KOPF', '72202012839'], 'source': 'obs'}, {'datetime': '05:00:00', 'datetimeEpoch': 1420970400, 'temp': 71.9, 'feelslike': 71.9, 'humidity': 81.57, 'dew': 65.9, 'precip': 0.0, 'precipprob': 0.0, 'snow': 0.0, 'snowdepth': 0.0, 'preciptype': None, 'windgust': 16.8, 'windspeed': 6.5, 'winddir': 63.0, 'pressure': 1023.4, 'visibility': 9.9, 'cloudcover': 57.5, 'solarradiation': 0.0, 'solarenergy': 0.0, 'uvindex': 0.0, 'conditions': 'Partially cloudy', 'icon': 'partly-cloudy-night', 'stations': ['KHWO', '72202412882', '72203792809', 'KMIA', 'KOPF', '72202012839'], 'source': 'obs'}, {'datetime': '06:00:00', 'datetimeEpoch': 1420974000, 'temp': 70.4, 'feelslike': 70.4, 'humidity': 80.1, 'dew': 64.0, 'precip': 0.0, 'precipprob': 0.0, 'snow': 0.0, 'snowdepth': 0.0, 'preciptype': None, 'windgust': 15.9, 'windspeed': 6.5, 'winddir': 93.0, 'pressure': 1024.0, 'visibility': 9.9, 'cloudcover': 34.8, 'solarradiation': 0.0, 'solarenergy': 0.0, 'uvindex': 0.0, 'conditions': 'Partially cloudy', 'icon': 'partly-cloudy-night', 'stations': ['KHWO', '72202412882', '72203792809', 'KMIA', 'KOPF', '72202012839'], 'source': 'obs'}, {'datetime': '07:00:00', 'datetimeEpoch': 1420977600, 'temp': 70.8, 'feelslike': 70.8, 'humidity': 81.28, 'dew': 64.8, 'precip': 0.0, 'precipprob': 0.0, 'snow': 0.0, 'snowdepth': 0.0, 'preciptype': None, 'windgust': 17.0, 'windspeed': 4.2, 'winddir': 72.0, 'pressure': 1024.4, 'visibility': 9.9, 'cloudcover': 54.3, 'solarradiation': 0.0, 'solarenergy': 0.0, 'uvindex': 0.0, 'conditions': 'Partially cloudy', 'icon': 'partly-cloudy-night', 'stations': ['KHWO', '72202412882', '72203792809', 'KMIA', 'KOPF', '72202012839'], 'source': 'obs'}, {'datetime': '08:00:00', 'datetimeEpoch': 1420981200, 'temp': 73.5, 'feelslike': 73.5, 'humidity': 78.88, 'dew': 66.5, 'precip': 0.0, 'precipprob': 0.0, 'snow': 0.0, 'snowdepth': 0.0, 'preciptype': None, 'windgust': 19.7, 'windspeed': 9.8, 'winddir': 94.0, 'pressure': 1024.9, 'visibility': 9.9, 'cloudcover': 63.4, 'solarradiation': 28.4, 'solarenergy': 0.1, 'uvindex': 0.0, 'conditions': 'Partially cloudy', 'icon': 'partly-cloudy-day', 'stations': ['KHWO', '72202412882', '72203792809', 'KMIA', 'KOPF', '72202012839'], 'source': 'obs'}, {'datetime': '09:00:00', 'datetimeEpoch': 1420984800, 'temp': 76.9, 'feelslike': 76.9, 'humidity': 70.66, 'dew': 66.6, 'precip': 0.0, 'precipprob': 0.0, 'snow': 0.0, 'snowdepth': 0.0, 'preciptype': None, 'windgust': 22.2, 'windspeed': 13.4, 'winddir': 85.0, 'pressure': 1025.5, 'visibility': 9.9, 'cloudcover': 74.3, 'solarradiation': 158.0, 'solarenergy': 0.6, 'uvindex': 2.0, 'conditions': 'Partially cloudy', 'icon': 'partly-cloudy-day', 'stations': ['KHWO', '72202412882', '72203792809', 'KMIA', 'KOPF', '72202012839'], 'source': 'obs'}, {'datetime': '10:00:00', 'datetimeEpoch': 1420988400, 'temp': 78.3, 'feelslike': 78.3, 'humidity': 67.87, 'dew': 66.8, 'precip': 0.0, 'precipprob': 0.0, 'snow': 0.0, 'snowdepth': 0.0, 'preciptype': None, 'windgust': 26.6, 'windspeed': 11.0, 'winddir': 83.0, 'pressure': 1025.7, 'visibility': 9.9, 'cloudcover': 92.9, 'solarradiation': 288.9, 'solarenergy': 1.0, 'uvindex': 3.0, 'conditions': 'Overcast', 'icon': 'cloudy', 'stations': ['KHWO', '72202412882', '72203792809', 'KMIA', 'KOPF', '72202012839'], 'source': 'obs'}, {'datetime': '11:00:00', 'datetimeEpoch': 1420992000, 'temp': 78.4, 'feelslike': 78.4, 'humidity': 72.97, 'dew': 69.0, 'precip': 0.012, 'precipprob': 100.0, 'snow': 0.0, 'snowdepth': 0.0, 'preciptype': ['rain'], 'windgust': 26.4, 'windspeed': 14.5, 'winddir': 85.0, 'pressure': 1025.2, 'visibility': 8.7, 'cloudcover': 91.7, 'solarradiation': 415.7, 'solarenergy': 1.5, 'uvindex': 4.0, 'conditions': 'Rain, Overcast', 'icon': 'rain', 'stations': ['KHWO', '72202412882', '72203792809', 'KMIA', 'KOPF', '72202012839'], 'source': 'obs'}, {'datetime': '12:00:00', 'datetimeEpoch': 1420995600, 'temp': 76.9, 'feelslike': 76.9, 'humidity': 81.13, 'dew': 70.7, 'precip': 0.031, 'precipprob': 100.0, 'snow': 0.0, 'snowdepth': 0.0, 'preciptype': ['rain'], 'windgust': 31.1, 'windspeed': 13.3, 'winddir': 85.0, 'pressure': 1024.3, 'visibility': 9.3, 'cloudcover': 92.9, 'solarradiation': 445.3, 'solarenergy': 1.6, 'uvindex': 4.0, 'conditions': 'Rain, Overcast', 'icon': 'rain', 'stations': ['KHWO', '72202412882', '72203792809', 'KMIA', 'KOPF', '72202012839'], 'source': 'obs'}, {'datetime': '13:00:00', 'datetimeEpoch': 1420999200, 'temp': 75.9, 'feelslike': 75.9, 'humidity': 82.39, 'dew': 70.2, 'precip': 0.026, 'precipprob': 100.0, 'snow': 0.0, 'snowdepth': 0.0, 'preciptype': ['rain'], 'windgust': 29.1, 'windspeed': 15.3, 'winddir': 84.0, 'pressure': 1023.4, 'visibility': 9.7, 'cloudcover': 97.2, 'solarradiation': 434.5, 'solarenergy': 1.6, 'uvindex': 4.0, 'conditions': 'Rain, Overcast', 'icon': 'rain', 'stations': ['KHWO', '72202412882', '72203792809', 'KMIA', 'KOPF', '72202012839'], 'source': 'obs'}, {'datetime': '14:00:00', 'datetimeEpoch': 1421002800, 'temp': 78.5, 'feelslike': 78.5, 'humidity': 73.03, 'dew': 69.2, 'precip': 0.012, 'precipprob': 100.0, 'snow': 0.0, 'snowdepth': 0.0, 'preciptype': ['rain'], 'windgust': 23.9, 'windspeed': 13.0, 'winddir': 95.0, 'pressure': 1022.7, 'visibility': 9.3, 'cloudcover': 92.9, 'solarradiation': 527.3, 'solarenergy': 1.9, 'uvindex': 5.0, 'conditions': 'Rain, Overcast', 'icon': 'rain', 'stations': ['KHWO', '72202412882', '72203792809', 'KMIA', 'KOPF', '72202012839'], 'source': 'obs'}, {'datetime': '15:00:00', 'datetimeEpoch': 1421006400, 'temp': 77.2, 'feelslike': 77.2, 'humidity': 80.06, 'dew': 70.5, 'precip': 0.046, 'precipprob': 100.0, 'snow': 0.0, 'snowdepth': 0.0, 'preciptype': ['rain'], 'windgust': 24.6, 'windspeed': 18.6, 'winddir': 91.0, 'pressure': 1022.4, 'visibility': 9.9, 'cloudcover': 100.0, 'solarradiation': 419.6, 'solarenergy': 1.5, 'uvindex': 4.0, 'conditions': 'Rain, Overcast', 'icon': 'rain', 'stations': ['KHWO', '72202412882', '72203792809', 'KMIA', 'KOPF', '72202012839'], 'source': 'obs'}, {'datetime': '16:00:00', 'datetimeEpoch': 1421010000, 'temp': 76.9, 'feelslike': 76.9, 'humidity': 79.6, 'dew': 70.1, 'precip': 0.0, 'precipprob': 0.0, 'snow': 0.0, 'snowdepth': 0.0, 'preciptype': None, 'windgust': 25.1, 'windspeed': 15.3, 'winddir': 83.0, 'pressure': 1022.3, 'visibility': 9.9, 'cloudcover': 83.9, 'solarradiation': 318.6, 'solarenergy': 1.1, 'uvindex': 3.0, 'conditions': 'Partially cloudy', 'icon': 'partly-cloudy-day', 'stations': ['KHWO', '72202412882', '72203792809', 'KMIA', 'KOPF', '72202012839'], 'source': 'obs'}, {'datetime': '17:00:00', 'datetimeEpoch': 1421013600, 'temp': 77.0, 'feelslike': 77.0, 'humidity': 77.73, 'dew': 69.5, 'precip': 0.0, 'precipprob': 0.0, 'snow': 0.0, 'snowdepth': 0.0, 'preciptype': None, 'windgust': 25.1, 'windspeed': 16.0, 'winddir': 96.0, 'pressure': 1022.7, 'visibility': 9.9, 'cloudcover': 80.4, 'solarradiation': 183.2, 'solarenergy': 0.7, 'uvindex': 2.0, 'conditions': 'Partially cloudy', 'icon': 'partly-cloudy-day', 'stations': ['KHWO', '72202412882', '72203792809', 'KMIA', 'KOPF', '72202012839'], 'source': 'obs'}, {'datetime': '18:00:00', 'datetimeEpoch': 1421017200, 'temp': 75.7, 'feelslike': 75.7, 'humidity': 80.13, 'dew': 69.2, 'precip': 0.0, 'precipprob': 0.0, 'snow': 0.0, 'snowdepth': 0.0, 'preciptype': None, 'windgust': 24.2, 'windspeed': 12.8, 'winddir': 86.0, 'pressure': 1022.7, 'visibility': 9.9, 'cloudcover': 46.8, 'solarradiation': 32.7, 'solarenergy': 0.1, 'uvindex': 0.0, 'conditions': 'Partially cloudy', 'icon': 'partly-cloudy-night', 'stations': ['KHWO', '72202412882', '72203792809', 'KMIA', 'KOPF', '72202012839'], 'source': 'obs'}, {'datetime': '19:00:00', 'datetimeEpoch': 1421020800, 'temp': 76.5, 'feelslike': 76.5, 'humidity': 73.55, 'dew': 67.4, 'precip': 0.0, 'precipprob': 0.0, 'snow': None, 'snowdepth': 0.0, 'preciptype': None, 'windgust': 24.2, 'windspeed': 17.2, 'winddir': 97.0, 'pressure': 1023.2, 'visibility': 9.9, 'cloudcover': 59.4, 'solarradiation': 0.0, 'solarenergy': 0.0, 'uvindex': 0.0, 'conditions': 'Partially cloudy', 'icon': 'partly-cloudy-night', 'stations': ['KHWO', '72202412882', '72203792809', 'KMIA', 'KOPF', '72202012839'], 'source': 'obs'}, {'datetime': '20:00:00', 'datetimeEpoch': 1421024400, 'temp': 75.8, 'feelslike': 75.8, 'humidity': 74.46, 'dew': 67.1, 'precip': 0.0, 'precipprob': 0.0, 'snow': None, 'snowdepth': 0.0, 'preciptype': None, 'windgust': 25.3, 'windspeed': 14.8, 'winddir': 94.0, 'pressure': 1023.9, 'visibility': 9.9, 'cloudcover': 41.8, 'solarradiation': 0.0, 'solarenergy': 0.0, 'uvindex': 0.0, 'conditions': 'Partially cloudy', 'icon': 'partly-cloudy-night', 'stations': ['KHWO', '72202412882', '72203792809', 'KMIA', 'KOPF', '72202012839'], 'source': 'obs'}, {'datetime': '21:00:00', 'datetimeEpoch': 1421028000, 'temp': 75.7, 'feelslike': 75.7, 'humidity': 76.94, 'dew': 68.0, 'precip': 0.0, 'precipprob': 0.0, 'snow': None, 'snowdepth': 0.0, 'preciptype': None, 'windgust': 25.9, 'windspeed': 13.7, 'winddir': 96.0, 'pressure': 1024.2, 'visibility': 9.9, 'cloudcover': 84.6, 'solarradiation': 0.0, 'solarenergy': 0.0, 'uvindex': 0.0, 'conditions': 'Partially cloudy', 'icon': 'partly-cloudy-night', 'stations': ['KHWO', '72202412882', '72203792809', 'KMIA', 'KOPF', '72202012839'], 'source': 'obs'}, {'datetime': '22:00:00', 'datetimeEpoch': 1421031600, 'temp': 75.7, 'feelslike': 75.7, 'humidity': 76.6, 'dew': 67.9, 'precip': 0.0, 'precipprob': 0.0, 'snow': None, 'snowdepth': 0.0, 'preciptype': None, 'windgust': 26.2, 'windspeed': 14.3, 'winddir': 100.0, 'pressure': 1024.0, 'visibility': 9.9, 'cloudcover': 74.6, 'solarradiation': 0.0, 'solarenergy': 0.0, 'uvindex': 0.0, 'conditions': 'Partially cloudy', 'icon': 'partly-cloudy-night', 'stations': ['KHWO', '72202412882', '72203792809', 'KMIA', 'KOPF', '72202012839'], 'source': 'obs'}, {'datetime': '23:00:00', 'datetimeEpoch': 1421035200, 'temp': 75.8, 'feelslike': 75.8, 'humidity': 79.87, 'dew': 69.2, 'precip': 0.0, 'precipprob': 0.0, 'snow': None, 'snowdepth': 0.0, 'preciptype': None, 'windgust': 21.9, 'windspeed': 12.7, 'winddir': 100.0, 'pressure': 1023.7, 'visibility': 9.9, 'cloudcover': 91.7, 'solarradiation': 0.0, 'solarenergy': 0.0, 'uvindex': 0.0, 'conditions': 'Overcast', 'icon': 'cloudy', 'stations': ['KHWO', '72202412882', '72203792809', 'KMIA', 'KOPF', '72202012839'], 'source': 'obs'}]}, {'datetime': '2015-01-12', 'datetimeEpoch': 1421038800, 'tempmax': 78.3, 'tempmin': 74.8, 'temp': 76.3, 'feelslikemax': 78.3, 'feelslikemin': 74.8, 'feelslike': 76.3, 'dew': 70.6, 'humidity': 82.6, 'precip': 0.064, 'precipprob': 100.0, 'precipcover': 16.67, 'preciptype': ['rain'], 'snow': 0.0, 'snowdepth': 0.0, 'windgust': 28.0, 'windspeed': 20.0, 'winddir': 107.1, 'pressure': 1020.8, 'cloudcover': 88.2, 'visibility': 9.8, 'solarradiation': 81.4, 'solarenergy': 7.2, 'uvindex': 4.0, 'sunrise': '07:09:13', 'sunriseEpoch': 1421064553, 'sunset': '17:49:06', 'sunsetEpoch': 1421102946, 'moonphase': 0.74, 'conditions': 'Rain, Partially cloudy', 'description': 'Partly cloudy throughout the day with a chance of rain throughout the day.', 'icon': 'rain', 'stations': ['KHWO', '72202412882', '72203792809', 'KMIA', 'KOPF', '72202012839'], 'source': 'obs', 'hours': [{'datetime': '00:00:00', 'datetimeEpoch': 1421038800, 'temp': 76.3, 'feelslike': 76.3, 'humidity': 79.44, 'dew': 69.5, 'precip': 0.002, 'precipprob': 100.0, 'snow': 0.0, 'snowdepth': 0.0, 'preciptype': ['rain'], 'windgust': 28.0, 'windspeed': 14.0, 'winddir': 103.0, 'pressure': 1023.4, 'visibility': 9.9, 'cloudcover': 79.2, 'solarradiation': 0.0, 'solarenergy': 0.0, 'uvindex': 0.0, 'conditions': 'Rain, Partially cloudy', 'icon': 'rain', 'stations': ['KHWO', '72202412882', '72203792809', 'KMIA', 'KOPF', '72202012839'], 'source': 'obs'}, {'datetime': '01:00:00', 'datetimeEpoch': 1421042400, 'temp': 75.2, 'feelslike': 75.2, 'humidity': 84.22, 'dew': 70.1, 'precip': 0.003, 'precipprob': 100.0, 'snow': 0.0, 'snowdepth': 0.0, 'preciptype': ['rain'], 'windgust': 26.8, 'windspeed': 13.2, 'winddir': 94.0, 'pressure': 1022.9, 'visibility': 9.9, 'cloudcover': 88.8, 'solarradiation': 0.0, 'solarenergy': 0.0, 'uvindex': 0.0, 'conditions': 'Rain, Partially cloudy', 'icon': 'rain', 'stations': ['KHWO', '72202412882', '72203792809', 'KMIA', 'KOPF', '72202012839'], 'source': 'obs'}, {'datetime': '02:00:00', 'datetimeEpoch': 1421046000, 'temp': 75.5, 'feelslike': 75.5, 'humidity': 83.57, 'dew': 70.2, 'precip': 0.0, 'precipprob': 0.0, 'snow': 0.0, 'snowdepth': 0.0, 'preciptype': None, 'windgust': 20.6, 'windspeed': 14.5, 'winddir': 101.0, 'pressure': 1022.3, 'visibility': 9.9, 'cloudcover': 73.1, 'solarradiation': 0.0, 'solarenergy': 0.0, 'uvindex': 0.0, 'conditions': 'Partially cloudy', 'icon': 'partly-cloudy-night', 'stations': ['KHWO', '72202412882', '72203792809', 'KMIA', 'KOPF', '72202012839'], 'source': 'obs'}, {'datetime': '03:00:00', 'datetimeEpoch': 1421049600, 'temp': 74.9, 'feelslike': 74.9, 'humidity': 87.5, 'dew': 71.0, 'precip': 0.0, 'precipprob': 0.0, 'snow': 0.0, 'snowdepth': 0.0, 'preciptype': None, 'windgust': 21.3, 'windspeed': 13.0, 'winddir': 94.0, 'pressure': 1021.5, 'visibility': 9.9, 'cloudcover': 88.8, 'solarradiation': 0.0, 'solarenergy': 0.0, 'uvindex': 0.0, 'conditions': 'Partially cloudy', 'icon': 'partly-cloudy-night', 'stations': ['KHWO', '72202412882', '72203792809', 'KMIA', 'KOPF', '72202012839'], 'source': 'obs'}, {'datetime': '04:00:00', 'datetimeEpoch': 1421053200, 'temp': 75.5, 'feelslike': 75.5, 'humidity': 83.27, 'dew': 70.1, 'precip': 0.0, 'precipprob': 0.0, 'snow': 0.0, 'snowdepth': 0.0, 'preciptype': None, 'windgust': 21.9, 'windspeed': 14.8, 'winddir': 94.0, 'pressure': 1021.3, 'visibility': 9.9, 'cloudcover': 96.0, 'solarradiation': 0.0, 'solarenergy': 0.0, 'uvindex': 0.0, 'conditions': 'Overcast', 'icon': 'cloudy', 'stations': ['KHWO', '72202412882', '72203792809', 'KMIA', 'KOPF', '72202012839'], 'source': 'obs'}, {'datetime': '05:00:00', 'datetimeEpoch': 1421056800, 'temp': 76.3, 'feelslike': 76.3, 'humidity': 81.01, 'dew': 70.1, 'precip': 0.0, 'precipprob': 0.0, 'snow': 0.0, 'snowdepth': 0.0, 'preciptype': None, 'windgust': 21.9, 'windspeed': 13.6, 'winddir': 94.0, 'pressure': 1021.1, 'visibility': 9.9, 'cloudcover': 92.9, 'solarradiation': 0.0, 'solarenergy': 0.0, 'uvindex': 0.0, 'conditions': 'Overcast', 'icon': 'cloudy', 'stations': ['KHWO', '72202412882', '72203792809', 'KMIA', 'KOPF', '72202012839'], 'source': 'obs'}, {'datetime': '06:00:00', 'datetimeEpoch': 1421060400, 'temp': 75.0, 'feelslike': 75.0, 'humidity': 84.31, 'dew': 70.0, 'precip': 0.033, 'precipprob': 100.0, 'snow': 0.0, 'snowdepth': 0.0, 'preciptype': ['rain'], 'windgust': 23.0, 'windspeed': 14.2, 'winddir': 104.0, 'pressure': 1021.6, 'visibility': 9.9, 'cloudcover': 92.9, 'solarradiation': 0.0, 'solarenergy': 0.0, 'uvindex': 0.0, 'conditions': 'Rain, Overcast', 'icon': 'rain', 'stations': ['KHWO', '72202412882', '72203792809', 'KMIA', 'KOPF', '72202012839'], 'source': 'obs'}, {'datetime': '07:00:00', 'datetimeEpoch': 1421064000, 'temp': 74.9, 'feelslike': 74.9, 'humidity': 83.93, 'dew': 69.7, 'precip': 0.0, 'precipprob': 0.0, 'snow': 0.0, 'snowdepth': 0.0, 'preciptype': None, 'windgust': 23.0, 'windspeed': 12.1, 'winddir': 108.0, 'pressure': 1022.0, 'visibility': 9.9, 'cloudcover': 59.4, 'solarradiation': 0.0, 'solarenergy': 0.0, 'uvindex': 0.0, 'conditions': 'Partially cloudy', 'icon': 'partly-cloudy-night', 'stations': ['KHWO', '72202412882', '72203792809', 'KMIA', 'KOPF', '72202012839'], 'source': 'obs'}, {'datetime': '08:00:00', 'datetimeEpoch': 1421067600, 'temp': 75.8, 'feelslike': 75.8, 'humidity': 82.09, 'dew': 70.0, 'precip': 0.0, 'precipprob': 0.0, 'snow': 0.0, 'snowdepth': 0.0, 'preciptype': None, 'windgust': 23.5, 'windspeed': 14.5, 'winddir': 103.0, 'pressure': 1022.2, 'visibility': 9.9, 'cloudcover': 91.7, 'solarradiation': 24.6, 'solarenergy': 0.1, 'uvindex': 0.0, 'conditions': 'Overcast', 'icon': 'cloudy', 'stations': ['KHWO', '72202412882', '72203792809', 'KMIA', 'KOPF', '72202012839'], 'source': 'obs'}, {'datetime': '09:00:00', 'datetimeEpoch': 1421071200, 'temp': 77.0, 'feelslike': 77.0, 'humidity': 79.0, 'dew': 70.0, 'precip': 0.0, 'precipprob': 0.0, 'snow': 0.0, 'snowdepth': 0.0, 'preciptype': None, 'windgust': 25.3, 'windspeed': 16.9, 'winddir': 105.0, 'pressure': 1022.2, 'visibility': 9.9, 'cloudcover': 93.6, 'solarradiation': 106.9, 'solarenergy': 0.4, 'uvindex': 1.0, 'conditions': 'Overcast', 'icon': 'cloudy', 'stations': ['KHWO', '72202412882', '72203792809', 'KMIA', 'KOPF', '72202012839'], 'source': 'obs'}, {'datetime': '10:00:00', 'datetimeEpoch': 1421074800, 'temp': 77.9, 'feelslike': 77.9, 'humidity': 76.72, 'dew': 70.0, 'precip': 0.0, 'precipprob': 0.0, 'snow': 0.0, 'snowdepth': 0.0, 'preciptype': None, 'windgust': 25.0, 'windspeed': 20.0, 'winddir': 110.0, 'pressure': 1022.5, 'visibility': 9.9, 'cloudcover': 88.8, 'solarradiation': 183.8, 'solarenergy': 0.7, 'uvindex': 2.0, 'conditions': 'Partially cloudy', 'icon': 'partly-cloudy-day', 'stations': ['KHWO', '72202412882', '72203792809', 'KMIA', 'KOPF', '72202012839'], 'source': 'obs'}, {'datetime': '11:00:00', 'datetimeEpoch': 1421078400, 'temp': 77.9, 'feelslike': 77.9, 'humidity': 78.42, 'dew': 70.6, 'precip': 0.0, 'precipprob': 0.0, 'snow': 0.0, 'snowdepth': 0.0, 'preciptype': None, 'windgust': 23.7, 'windspeed': 18.8, 'winddir': 103.0, 'pressure': 1022.4, 'visibility': 8.8, 'cloudcover': 100.0, 'solarradiation': 300.1, 'solarenergy': 1.1, 'uvindex': 3.0, 'conditions': 'Overcast', 'icon': 'cloudy', 'stations': ['KHWO', '72202412882', '72203792809', 'KMIA', 'KOPF', '72202012839'], 'source': 'obs'}, {'datetime': '12:00:00', 'datetimeEpoch': 1421082000, 'temp': 77.1, 'feelslike': 77.1, 'humidity': 78.66, 'dew': 70.0, 'precip': 0.0, 'precipprob': 0.0, 'snow': 0.0, 'snowdepth': 0.0, 'preciptype': None, 'windgust': 24.4, 'windspeed': 15.2, 'winddir': 110.0, 'pressure': 1021.4, 'visibility': 9.9, 'cloudcover': 100.0, 'solarradiation': 380.3, 'solarenergy': 1.4, 'uvindex': 4.0, 'conditions': 'Overcast', 'icon': 'cloudy', 'stations': ['KHWO', '72202412882', '72203792809', 'KMIA', 'KOPF', '72202012839'], 'source': 'obs'}, {'datetime': '13:00:00', 'datetimeEpoch': 1421085600, 'temp': 76.6, 'feelslike': 76.6, 'humidity': 81.09, 'dew': 70.3, 'precip': 0.026, 'precipprob': 100.0, 'snow': 0.0, 'snowdepth': 0.0, 'preciptype': ['rain'], 'windgust': 23.5, 'windspeed': 17.0, 'winddir': 111.0, 'pressure': 1020.7, 'visibility': 9.6, 'cloudcover': 85.1, 'solarradiation': 357.9, 'solarenergy': 1.3, 'uvindex': 4.0, 'conditions': 'Rain, Partially cloudy', 'icon': 'rain', 'stations': ['KHWO', '72202412882', '72203792809', 'KMIA', 'KOPF', '72202012839'], 'source': 'obs'}, {'datetime': '14:00:00', 'datetimeEpoch': 1421089200, 'temp': 78.3, 'feelslike': 78.3, 'humidity': 78.21, 'dew': 71.0, 'precip': 0.0, 'precipprob': 0.0, 'snow': 0.0, 'snowdepth': 0.0, 'preciptype': None, 'windgust': 21.9, 'windspeed': 13.9, 'winddir': 123.0, 'pressure': 1019.5, 'visibility': 9.9, 'cloudcover': 98.8, 'solarradiation': 171.6, 'solarenergy': 0.6, 'uvindex': 2.0, 'conditions': 'Overcast', 'icon': 'cloudy', 'stations': ['KHWO', '72202412882', '72203792809', 'KMIA', 'KOPF', '72202012839'], 'source': 'obs'}, {'datetime': '15:00:00', 'datetimeEpoch': 1421092800, 'temp': 78.3, 'feelslike': 78.3, 'humidity': 76.14, 'dew': 70.2, 'precip': 0.0, 'precipprob': 0.0, 'snow': 0.0, 'snowdepth': 0.0, 'preciptype': None, 'windgust': 13.9, 'windspeed': 12.6, 'winddir': 130.0, 'pressure': 1019.2, 'visibility': 9.9, 'cloudcover': 98.8, 'solarradiation': 136.4, 'solarenergy': 0.5, 'uvindex': 1.0, 'conditions': 'Overcast', 'icon': 'cloudy', 'stations': ['KHWO', '72202412882', '72203792809', 'KMIA', 'KOPF', '72202012839'], 'source': 'obs'}, {'datetime': '16:00:00', 'datetimeEpoch': 1421096400, 'temp': 78.2, 'feelslike': 78.2, 'humidity': 76.5, 'dew': 70.2, 'precip': 0.0, 'precipprob': 0.0, 'snow': 0.0, 'snowdepth': 0.0, 'preciptype': None, 'windgust': 12.5, 'windspeed': 14.0, 'winddir': 119.0, 'pressure': 1018.5, 'visibility': 9.9, 'cloudcover': 96.0, 'solarradiation': 153.6, 'solarenergy': 0.6, 'uvindex': 2.0, 'conditions': 'Overcast', 'icon': 'cloudy', 'stations': ['KHWO', '72202412882', '72203792809', 'KMIA', 'KOPF', '72202012839'], 'source': 'obs'}, {'datetime': '17:00:00', 'datetimeEpoch': 1421100000, 'temp': 77.0, 'feelslike': 77.0, 'humidity': 82.02, 'dew': 71.1, 'precip': 0.0, 'precipprob': 0.0, 'snow': 0.0, 'snowdepth': 0.0, 'preciptype': None, 'windgust': 13.2, 'windspeed': 10.0, 'winddir': 131.0, 'pressure': 1018.7, 'visibility': 9.9, 'cloudcover': 96.0, 'solarradiation': 115.3, 'solarenergy': 0.4, 'uvindex': 1.0, 'conditions': 'Overcast', 'icon': 'cloudy', 'stations': ['KHWO', '72202412882', '72203792809', 'KMIA', 'KOPF', '72202012839'], 'source': 'obs'}, {'datetime': '18:00:00', 'datetimeEpoch': 1421103600, 'temp': 76.6, 'feelslike': 76.6, 'humidity': 83.19, 'dew': 71.1, 'precip': 0.0, 'precipprob': 0.0, 'snow': 0.0, 'snowdepth': 0.0, 'preciptype': None, 'windgust': 13.4, 'windspeed': 11.6, 'winddir': 114.0, 'pressure': 1018.4, 'visibility': 9.9, 'cloudcover': 80.2, 'solarradiation': 24.0, 'solarenergy': 0.1, 'uvindex': 0.0, 'conditions': 'Partially cloudy', 'icon': 'partly-cloudy-night', 'stations': ['KHWO', '72202412882', '72203792809', 'KMIA', 'KOPF', '72202012839'], 'source': 'obs'}, {'datetime': '19:00:00', 'datetimeEpoch': 1421107200, 'temp': 75.8, 'feelslike': 75.8, 'humidity': 85.89, 'dew': 71.3, 'precip': 0.0, 'precipprob': 0.0, 'snow': None, 'snowdepth': 0.0, 'preciptype': None, 'windgust': 12.8, 'windspeed': 8.2, 'winddir': 109.0, 'pressure': 1018.9, 'visibility': 9.9, 'cloudcover': 83.6, 'solarradiation': 0.0, 'solarenergy': 0.0, 'uvindex': 0.0, 'conditions': 'Partially cloudy', 'icon': 'partly-cloudy-night', 'stations': ['KHWO', '72202412882', '72203792809', 'KMIA', 'KOPF', '72202012839'], 'source': 'obs'}, {'datetime': '20:00:00', 'datetimeEpoch': 1421110800, 'temp': 75.6, 'feelslike': 75.6, 'humidity': 88.54, 'dew': 72.0, 'precip': 0.0, 'precipprob': 0.0, 'snow': None, 'snowdepth': 0.0, 'preciptype': None, 'windgust': 12.3, 'windspeed': 5.8, 'winddir': 111.0, 'pressure': 1019.3, 'visibility': 9.9, 'cloudcover': 73.5, 'solarradiation': 0.0, 'solarenergy': 0.0, 'uvindex': 0.0, 'conditions': 'Partially cloudy', 'icon': 'partly-cloudy-night', 'stations': ['KHWO', '72202412882', '72203792809', 'KMIA', 'KOPF', '72202012839'], 'source': 'obs'}, {'datetime': '21:00:00', 'datetimeEpoch': 1421114400, 'temp': 75.6, 'feelslike': 75.6, 'humidity': 88.54, 'dew': 72.0, 'precip': 0.0, 'precipprob': 0.0, 'snow': None, 'snowdepth': 0.0, 'preciptype': None, 'windgust': 12.8, 'windspeed': 6.0, 'winddir': 118.0, 'pressure': 1020.1, 'visibility': 9.9, 'cloudcover': 76.3, 'solarradiation': 0.0, 'solarenergy': 0.0, 'uvindex': 0.0, 'conditions': 'Partially cloudy', 'icon': 'partly-cloudy-night', 'stations': ['KHWO', '72202412882', '72203792809', 'KMIA', 'KOPF', '72202012839'], 'source': 'obs'}, {'datetime': '22:00:00', 'datetimeEpoch': 1421118000, 'temp': 75.2, 'feelslike': 75.2, 'humidity': 89.81, 'dew': 72.0, 'precip': 0.0, 'precipprob': 0.0, 'snow': None, 'snowdepth': 0.0, 'preciptype': None, 'windgust': 11.4, 'windspeed': 3.0, 'winddir': 85.0, 'pressure': 1020.1, 'visibility': 9.9, 'cloudcover': 88.0, 'solarradiation': 0.0, 'solarenergy': 0.0, 'uvindex': 0.0, 'conditions': 'Partially cloudy', 'icon': 'partly-cloudy-night', 'stations': ['KHWO', '72202412882', '72203792809', 'KMIA', 'KOPF', '72202012839'], 'source': 'obs'}, {'datetime': '23:00:00', 'datetimeEpoch': 1421121600, 'temp': 74.8, 'feelslike': 74.8, 'humidity': 90.17, 'dew': 71.8, 'precip': 0.0, 'precipprob': 0.0, 'snow': None, 'snowdepth': 0.0, 'preciptype': None, 'windgust': 10.5, 'windspeed': 3.0, 'winddir': 62.0, 'pressure': 1019.2, 'visibility': 9.9, 'cloudcover': 96.4, 'solarradiation': 0.0, 'solarenergy': 0.0, 'uvindex': 0.0, 'conditions': 'Overcast', 'icon': 'cloudy', 'stations': ['KHWO', '72202412882', '72203792809', 'KMIA', 'KOPF', '72202012839'], 'source': 'obs'}]}, {'datetime': '2015-01-13', 'datetimeEpoch': 1421125200, 'tempmax': 78.9, 'tempmin': 70.2, 'temp': 73.4, 'feelslikemax': 78.9, 'feelslikemin': 70.2, 'feelslike': 73.4, 'dew': 69.4, 'humidity': 87.6, 'precip': 1.325, 'precipprob': 100.0, 'precipcover': 41.67, 'preciptype': ['rain'], 'snow': 0.0, 'snowdepth': 0.0, 'windgust': 13.9, 'windspeed': 14.2, 'winddir': 79.4, 'pressure': 1018.1, 'cloudcover': 73.9, 'visibility': 9.0, 'solarradiation': 120.0, 'solarenergy': 10.5, 'uvindex': 4.0, 'sunrise': '07:09:13', 'sunriseEpoch': 1421150953, 'sunset': '17:49:52', 'sunsetEpoch': 1421189392, 'moonphase': 0.75, 'conditions': 'Rain, Partially cloudy', 'description': 'Partly cloudy throughout the day with a chance of rain throughout the day.', 'icon': 'rain', 'stations': ['KHWO', '72202412882', '72203792809', 'KMIA', 'KOPF', '72202012839'], 'source': 'obs', 'hours': [{'datetime': '00:00:00', 'datetimeEpoch': 1421125200, 'temp': 74.4, 'feelslike': 74.4, 'humidity': 91.22, 'dew': 71.6, 'precip': 0.0, 'precipprob': 0.0, 'snow': 0.0, 'snowdepth': 0.0, 'preciptype': None, 'windgust': 12.3, 'windspeed': 1.7, 'winddir': 336.0, 'pressure': 1018.4, 'visibility': 8.8, 'cloudcover': 61.1, 'solarradiation': 0.0, 'solarenergy': 0.0, 'uvindex': 0.0, 'conditions': 'Partially cloudy', 'icon': 'partly-cloudy-night', 'stations': ['KHWO', '72202412882', '72203792809', 'KMIA', 'KOPF', '72202012839'], 'source': 'obs'}, {'datetime': '01:00:00', 'datetimeEpoch': 1421128800, 'temp': 72.0, 'feelslike': 72.0, 'humidity': 95.65, 'dew': 70.7, 'precip': 0.126, 'precipprob': 100.0, 'snow': 0.0, 'snowdepth': 0.0, 'preciptype': ['rain'], 'windgust': 12.3, 'windspeed': 6.1, 'winddir': 68.0, 'pressure': 1017.9, 'visibility': 4.4, 'cloudcover': 96.0, 'solarradiation': 0.0, 'solarenergy': 0.0, 'uvindex': 0.0, 'conditions': 'Rain, Overcast', 'icon': 'rain', 'stations': ['KHWO', '72202412882', '72203792809', 'KMIA', 'KOPF', '72202012839'], 'source': 'obs'}, {'datetime': '02:00:00', 'datetimeEpoch': 1421132400, 'temp': 72.1, 'feelslike': 72.1, 'humidity': 95.02, 'dew': 70.6, 'precip': 0.444, 'precipprob': 100.0, 'snow': 0.0, 'snowdepth': 0.0, 'preciptype': ['rain'], 'windgust': 8.9, 'windspeed': 3.3, 'winddir': 347.0, 'pressure': 1017.7, 'visibility': 3.7, 'cloudcover': 100.0, 'solarradiation': 0.0, 'solarenergy': 0.0, 'uvindex': 0.0, 'conditions': 'Rain, Overcast', 'icon': 'rain', 'stations': ['KHWO', '72202412882', '72203792809', 'KMIA', 'KOPF', '72202012839'], 'source': 'obs'}, {'datetime': '03:00:00', 'datetimeEpoch': 1421136000, 'temp': 71.2, 'feelslike': 71.2, 'humidity': 97.72, 'dew': 70.5, 'precip': 0.427, 'precipprob': 100.0, 'snow': 0.0, 'snowdepth': 0.0, 'preciptype': ['rain'], 'windgust': 8.9, 'windspeed': 1.2, 'winddir': 11.0, 'pressure': 1017.5, 'visibility': 4.2, 'cloudcover': 100.0, 'solarradiation': 0.0, 'solarenergy': 0.0, 'uvindex': 0.0, 'conditions': 'Rain, Overcast', 'icon': 'rain', 'stations': ['KHWO', '72202412882', '72203792809', 'KMIA', 'KOPF', '72202012839'], 'source': 'obs'}, {'datetime': '04:00:00', 'datetimeEpoch': 1421139600, 'temp': 70.4, 'feelslike': 70.4, 'humidity': 97.83, 'dew': 69.7, 'precip': 0.151, 'precipprob': 100.0, 'snow': 0.0, 'snowdepth': 0.0, 'preciptype': ['rain'], 'windgust': 8.7, 'windspeed': 5.8, 'winddir': 349.0, 'pressure': 1017.1, 'visibility': 9.9, 'cloudcover': 100.0, 'solarradiation': 0.0, 'solarenergy': 0.0, 'uvindex': 0.0, 'conditions': 'Rain, Overcast', 'icon': 'rain', 'stations': ['KHWO', '72202412882', '72203792809', 'KMIA', 'KOPF', '72202012839'], 'source': 'obs'}, {'datetime': '05:00:00', 'datetimeEpoch': 1421143200, 'temp': 70.2, 'feelslike': 70.2, 'humidity': 95.94, 'dew': 69.0, 'precip': 0.004, 'precipprob': 100.0, 'snow': 0.0, 'snowdepth': 0.0, 'preciptype': ['rain'], 'windgust': 6.9, 'windspeed': 4.4, 'winddir': 42.0, 'pressure': 1017.0, 'visibility': 9.9, 'cloudcover': 97.6, 'solarradiation': 0.0, 'solarenergy': 0.0, 'uvindex': 0.0, 'conditions': 'Rain, Overcast', 'icon': 'rain', 'stations': ['KHWO', '72202412882', '72203792809', 'KMIA', 'KOPF', '72202012839'], 'source': 'obs'}, {'datetime': '06:00:00', 'datetimeEpoch': 1421146800, 'temp': 70.2, 'feelslike': 70.2, 'humidity': 95.94, 'dew': 69.0, 'precip': 0.0, 'precipprob': 0.0, 'snow': 0.0, 'snowdepth': 0.0, 'preciptype': None, 'windgust': 8.1, 'windspeed': 4.9, 'winddir': 83.0, 'pressure': 1017.9, 'visibility': 9.9, 'cloudcover': 96.4, 'solarradiation': 0.0, 'solarenergy': 0.0, 'uvindex': 0.0, 'conditions': 'Overcast', 'icon': 'cloudy', 'stations': ['KHWO', '72202412882', '72203792809', 'KMIA', 'KOPF', '72202012839'], 'source': 'obs'}, {'datetime': '07:00:00', 'datetimeEpoch': 1421150400, 'temp': 70.2, 'feelslike': 70.2, 'humidity': 95.61, 'dew': 68.9, 'precip': 0.077, 'precipprob': 100.0, 'snow': 0.0, 'snowdepth': 0.0, 'preciptype': ['rain'], 'windgust': 8.7, 'windspeed': 2.5, 'winddir': 12.0, 'pressure': 1018.3, 'visibility': 9.9, 'cloudcover': 83.6, 'solarradiation': 0.0, 'solarenergy': 0.0, 'uvindex': 0.0, 'conditions': 'Rain, Partially cloudy', 'icon': 'rain', 'stations': ['KHWO', '72202412882', '72203792809', 'KMIA', 'KOPF', '72202012839'], 'source': 'obs'}, {'datetime': '08:00:00', 'datetimeEpoch': 1421154000, 'temp': 70.5, 'feelslike': 70.5, 'humidity': 95.62, 'dew': 69.2, 'precip': 0.0, 'precipprob': 0.0, 'snow': 0.0, 'snowdepth': 0.0, 'preciptype': None, 'windgust': 9.2, 'windspeed': 5.4, 'winddir': 30.0, 'pressure': 1018.8, 'visibility': 8.8, 'cloudcover': 89.3, 'solarradiation': 27.6, 'solarenergy': 0.1, 'uvindex': 0.0, 'conditions': 'Partially cloudy', 'icon': 'partly-cloudy-day', 'stations': ['KHWO', '72202412882', '72203792809', 'KMIA', 'KOPF', '72202012839'], 'source': 'obs'}, {'datetime': '09:00:00', 'datetimeEpoch': 1421157600, 'temp': 71.5, 'feelslike': 71.5, 'humidity': 93.44, 'dew': 69.5, 'precip': 0.0, 'precipprob': 0.0, 'snow': 0.0, 'snowdepth': 0.0, 'preciptype': None, 'windgust': 9.6, 'windspeed': 0.9, 'winddir': 360.0, 'pressure': 1019.8, 'visibility': 9.9, 'cloudcover': 92.9, 'solarradiation': 155.7, 'solarenergy': 0.6, 'uvindex': 2.0, 'conditions': 'Overcast', 'icon': 'cloudy', 'stations': ['KHWO', '72202412882', '72203792809', 'KMIA', 'KOPF', '72202012839'], 'source': 'obs'}, {'datetime': '10:00:00', 'datetimeEpoch': 1421161200, 'temp': 73.3, 'feelslike': 73.3, 'humidity': 90.49, 'dew': 70.3, 'precip': 0.003, 'precipprob': 100.0, 'snow': 0.0, 'snowdepth': 0.0, 'preciptype': ['rain'], 'windgust': 9.6, 'windspeed': 2.6, 'winddir': 19.0, 'pressure': 1020.7, 'visibility': 9.2, 'cloudcover': 92.9, 'solarradiation': 267.0, 'solarenergy': 1.0, 'uvindex': 3.0, 'conditions': 'Rain, Overcast', 'icon': 'rain', 'stations': ['KHWO', '72202412882', '72203792809', 'KMIA', 'KOPF', '72202012839'], 'source': 'obs'}, {'datetime': '11:00:00', 'datetimeEpoch': 1421164800, 'temp': 75.3, 'feelslike': 75.3, 'humidity': 85.6, 'dew': 70.7, 'precip': 0.061, 'precipprob': 100.0, 'snow': 0.0, 'snowdepth': 0.0, 'preciptype': ['rain'], 'windgust': 9.2, 'windspeed': 7.3, 'winddir': 40.0, 'pressure': 1020.3, 'visibility': 9.0, 'cloudcover': 97.6, 'solarradiation': 385.4, 'solarenergy': 1.4, 'uvindex': 4.0, 'conditions': 'Rain, Overcast', 'icon': 'rain', 'stations': ['KHWO', '72202412882', '72203792809', 'KMIA', 'KOPF', '72202012839'], 'source': 'obs'}, {'datetime': '12:00:00', 'datetimeEpoch': 1421168400, 'temp': 73.9, 'feelslike': 73.9, 'humidity': 91.66, 'dew': 71.3, 'precip': 0.027, 'precipprob': 100.0, 'snow': 0.0, 'snowdepth': 0.0, 'preciptype': ['rain'], 'windgust': 8.5, 'windspeed': 14.2, 'winddir': 94.0, 'pressure': 1019.5, 'visibility': 9.9, 'cloudcover': 90.0, 'solarradiation': 410.5, 'solarenergy': 1.5, 'uvindex': 4.0, 'conditions': 'Rain, Partially cloudy', 'icon': 'rain', 'stations': ['KHWO', '72202412882', '72203792809', 'KMIA', 'KOPF', '72202012839'], 'source': 'obs'}, {'datetime': '13:00:00', 'datetimeEpoch': 1421172000, 'temp': 75.3, 'feelslike': 75.3, 'humidity': 83.28, 'dew': 69.9, 'precip': 0.005, 'precipprob': 100.0, 'snow': 0.0, 'snowdepth': 0.0, 'preciptype': ['rain'], 'windgust': 8.7, 'windspeed': 9.0, 'winddir': 82.0, 'pressure': 1018.1, 'visibility': 9.9, 'cloudcover': 78.9, 'solarradiation': 425.2, 'solarenergy': 1.5, 'uvindex': 4.0, 'conditions': 'Rain, Partially cloudy', 'icon': 'rain', 'stations': ['KHWO', '72202412882', '72203792809', 'KMIA', 'KOPF', '72202012839'], 'source': 'obs'}, {'datetime': '14:00:00', 'datetimeEpoch': 1421175600, 'temp': 78.9, 'feelslike': 78.9, 'humidity': 73.15, 'dew': 69.6, 'precip': 0.0, 'precipprob': 0.0, 'snow': 0.0, 'snowdepth': 0.0, 'preciptype': None, 'windgust': 11.6, 'windspeed': 10.1, 'winddir': 83.0, 'pressure': 1017.0, 'visibility': 9.9, 'cloudcover': 31.8, 'solarradiation': 330.8, 'solarenergy': 1.2, 'uvindex': 3.0, 'conditions': 'Partially cloudy', 'icon': 'partly-cloudy-day', 'stations': ['KHWO', '72202412882', '72203792809', 'KMIA', 'KOPF', '72202012839'], 'source': 'obs'}, {'datetime': '15:00:00', 'datetimeEpoch': 1421179200, 'temp': 78.4, 'feelslike': 78.4, 'humidity': 73.09, 'dew': 69.0, 'precip': 0.0, 'precipprob': 0.0, 'snow': 0.0, 'snowdepth': 0.0, 'preciptype': None, 'windgust': 12.5, 'windspeed': 13.1, 'winddir': 95.0, 'pressure': 1016.7, 'visibility': 9.9, 'cloudcover': 82.1, 'solarradiation': 381.0, 'solarenergy': 1.4, 'uvindex': 4.0, 'conditions': 'Partially cloudy', 'icon': 'partly-cloudy-day', 'stations': ['KHWO', '72202412882', '72203792809', 'KMIA', 'KOPF', '72202012839'], 'source': 'obs'}, {'datetime': '16:00:00', 'datetimeEpoch': 1421182800, 'temp': 78.3, 'feelslike': 78.3, 'humidity': 68.88, 'dew': 67.3, 'precip': 0.0, 'precipprob': 0.0, 'snow': 0.0, 'snowdepth': 0.0, 'preciptype': None, 'windgust': 13.9, 'windspeed': 8.9, 'winddir': 140.0, 'pressure': 1016.9, 'visibility': 9.9, 'cloudcover': 48.5, 'solarradiation': 308.5, 'solarenergy': 1.1, 'uvindex': 3.0, 'conditions': 'Partially cloudy', 'icon': 'partly-cloudy-day', 'stations': ['KHWO', '72202412882', '72203792809', 'KMIA', 'KOPF', '72202012839'], 'source': 'obs'}, {'datetime': '17:00:00', 'datetimeEpoch': 1421186400, 'temp': 77.9, 'feelslike': 77.9, 'humidity': 72.1, 'dew': 68.2, 'precip': 0.0, 'precipprob': 0.0, 'snow': 0.0, 'snowdepth': 0.0, 'preciptype': None, 'windgust': 13.2, 'windspeed': 6.4, 'winddir': 162.0, 'pressure': 1017.4, 'visibility': 9.9, 'cloudcover': 31.8, 'solarradiation': 161.6, 'solarenergy': 0.6, 'uvindex': 2.0, 'conditions': 'Partially cloudy', 'icon': 'partly-cloudy-day', 'stations': ['KHWO', '72202412882', '72203792809', 'KMIA', 'KOPF', '72202012839'], 'source': 'obs'}, {'datetime': '18:00:00', 'datetimeEpoch': 1421190000, 'temp': 74.8, 'feelslike': 74.8, 'humidity': 80.63, 'dew': 68.4, 'precip': 0.0, 'precipprob': 0.0, 'snow': 0.0, 'snowdepth': 0.0, 'preciptype': None, 'windgust': 8.3, 'windspeed': 5.8, 'winddir': 137.0, 'pressure': 1017.0, 'visibility': 9.9, 'cloudcover': 31.8, 'solarradiation': 26.6, 'solarenergy': 0.1, 'uvindex': 0.0, 'conditions': 'Partially cloudy', 'icon': 'partly-cloudy-night', 'stations': ['KHWO', '72202412882', '72203792809', 'KMIA', 'KOPF', '72202012839'], 'source': 'obs'}, {'datetime': '19:00:00', 'datetimeEpoch': 1421193600, 'temp': 73.8, 'feelslike': 73.8, 'humidity': 82.07, 'dew': 68.0, 'precip': 0.0, 'precipprob': 0.0, 'snow': None, 'snowdepth': 0.0, 'preciptype': None, 'windgust': 7.4, 'windspeed': 2.5, 'winddir': 103.0, 'pressure': 1017.5, 'visibility': 9.9, 'cloudcover': 61.8, 'solarradiation': 0.0, 'solarenergy': 0.0, 'uvindex': 0.0, 'conditions': 'Partially cloudy', 'icon': 'partly-cloudy-night', 'stations': ['KHWO', '72202412882', '72203792809', 'KMIA', 'KOPF', '72202012839'], 'source': 'obs'}, {'datetime': '20:00:00', 'datetimeEpoch': 1421197200, 'temp': 73.3, 'feelslike': 73.3, 'humidity': 85.58, 'dew': 68.7, 'precip': 0.0, 'precipprob': 0.0, 'snow': None, 'snowdepth': 0.0, 'preciptype': None, 'windgust': 7.8, 'windspeed': 4.2, 'winddir': 151.0, 'pressure': 1017.7, 'visibility': 9.9, 'cloudcover': 90.0, 'solarradiation': 0.0, 'solarenergy': 0.0, 'uvindex': 0.0, 'conditions': 'Partially cloudy', 'icon': 'partly-cloudy-night', 'stations': ['KHWO', '72202412882', '72203792809', 'KMIA', 'KOPF', '72202012839'], 'source': 'obs'}, {'datetime': '21:00:00', 'datetimeEpoch': 1421200800, 'temp': 73.4, 'feelslike': 73.4, 'humidity': 84.99, 'dew': 68.6, 'precip': 0.0, 'precipprob': 0.0, 'snow': None, 'snowdepth': 0.0, 'preciptype': None, 'windgust': 8.5, 'windspeed': 3.0, 'winddir': 289.0, 'pressure': 1018.0, 'visibility': 9.9, 'cloudcover': 54.5, 'solarradiation': 0.0, 'solarenergy': 0.0, 'uvindex': 0.0, 'conditions': 'Partially cloudy', 'icon': 'partly-cloudy-night', 'stations': ['KHWO', '72202412882', '72203792809', 'KMIA', 'KOPF', '72202012839'], 'source': 'obs'}, {'datetime': '22:00:00', 'datetimeEpoch': 1421204400, 'temp': 71.7, 'feelslike': 71.7, 'humidity': 87.96, 'dew': 68.0, 'precip': 0.0, 'precipprob': 0.0, 'snow': None, 'snowdepth': 0.0, 'preciptype': None, 'windgust': 6.9, 'windspeed': 0.9, 'winddir': 298.0, 'pressure': 1018.3, 'visibility': 9.9, 'cloudcover': 33.8, 'solarradiation': 0.0, 'solarenergy': 0.0, 'uvindex': 0.0, 'conditions': 'Partially cloudy', 'icon': 'partly-cloudy-night', 'stations': ['KHWO', '72202412882', '72203792809', 'KMIA', 'KOPF', '72202012839'], 'source': 'obs'}, {'datetime': '23:00:00', 'datetimeEpoch': 1421208000, 'temp': 71.4, 'feelslike': 71.4, 'humidity': 89.02, 'dew': 68.0, 'precip': 0.0, 'precipprob': 0.0, 'snow': None, 'snowdepth': 0.0, 'preciptype': None, 'windgust': 7.6, 'windspeed': 0.4, 'winddir': 360.0, 'pressure': 1018.2, 'visibility': 9.9, 'cloudcover': 31.8, 'solarradiation': 0.0, 'solarenergy': 0.0, 'uvindex': 0.0, 'conditions': 'Partially cloudy', 'icon': 'partly-cloudy-night', 'stations': ['KHWO', '72202412882', '72203792809', 'KMIA', 'KOPF', '72202012839'], 'source': 'obs'}]}, {'datetime': '2015-01-14', 'datetimeEpoch': 1421211600, 'tempmax': 76.4, 'tempmin': 67.6, 'temp': 71.2, 'feelslikemax': 76.4, 'feelslikemin': 67.6, 'feelslike': 71.2, 'dew': 66.5, 'humidity': 85.7, 'precip': 0.002, 'precipprob': 100.0, 'precipcover': 8.33, 'preciptype': ['rain'], 'snow': 0.0, 'snowdepth': 0.0, 'windgust': 20.6, 'windspeed': 10.5, 'winddir': 340.6, 'pressure': 1017.6, 'cloudcover': 75.2, 'visibility': 7.8, 'solarradiation': 134.3, 'solarenergy': 11.5, 'uvindex': 6.0, 'sunrise': '07:09:12', 'sunriseEpoch': 1421237352, 'sunset': '17:50:38', 'sunsetEpoch': 1421275838, 'moonphase': 0.81, 'conditions': 'Rain, Partially cloudy', 'description': 'Partly cloudy throughout the day with late afternoon rain.', 'icon': 'rain', 'stations': ['KHWO', '72202412882', '72203792809', 'KMIA', 'KOPF', '72202012839'], 'source': 'obs', 'hours': [{'datetime': '00:00:00', 'datetimeEpoch': 1421211600, 'temp': 71.1, 'feelslike': 71.1, 'humidity': 89.65, 'dew': 67.9, 'precip': 0.0, 'precipprob': 0.0, 'snow': 0.0, 'snowdepth': 0.0, 'preciptype': None, 'windgust': 10.5, 'windspeed': 0.0, 'winddir': 0.0, 'pressure': 1017.6, 'visibility': 9.9, 'cloudcover': 31.8, 'solarradiation': 0.0, 'solarenergy': 0.0, 'uvindex': 0.0, 'conditions': 'Partially cloudy', 'icon': 'partly-cloudy-night', 'stations': ['KHWO', '72202412882', '72203792809', 'KMIA', 'KOPF', '72202012839'], 'source': 'obs'}, {'datetime': '01:00:00', 'datetimeEpoch': 1421215200, 'temp': 69.8, 'feelslike': 69.8, 'humidity': 91.11, 'dew': 67.1, 'precip': 0.0, 'precipprob': 0.0, 'snow': 0.0, 'snowdepth': 0.0, 'preciptype': None, 'windgust': 10.5, 'windspeed': 0.0, 'winddir': 0.0, 'pressure': 1017.4, 'visibility': 9.9, 'cloudcover': 31.5, 'solarradiation': 0.0, 'solarenergy': 0.0, 'uvindex': 0.0, 'conditions': 'Partially cloudy', 'icon': 'partly-cloudy-night', 'stations': ['KHWO', '72202412882', '72203792809', 'KMIA', 'KOPF', '72202012839'], 'source': 'obs'}, {'datetime': '02:00:00', 'datetimeEpoch': 1421218800, 'temp': 68.9, 'feelslike': 68.9, 'humidity': 94.7, 'dew': 67.3, 'precip': 0.0, 'precipprob': 0.0, 'snow': 0.0, 'snowdepth': 0.0, 'preciptype': None, 'windgust': 9.2, 'windspeed': 0.0, 'winddir': 0.0, 'pressure': 1017.0, 'visibility': 9.9, 'cloudcover': 56.4, 'solarradiation': 0.0, 'solarenergy': 0.0, 'uvindex': 0.0, 'conditions': 'Partially cloudy', 'icon': 'partly-cloudy-night', 'stations': ['KHWO', '72202412882', '72203792809', 'KMIA', 'KOPF', '72202012839'], 'source': 'obs'}, {'datetime': '03:00:00', 'datetimeEpoch': 1421222400, 'temp': 68.4, 'feelslike': 68.4, 'humidity': 97.0, 'dew': 67.6, 'precip': 0.0, 'precipprob': 0.0, 'snow': 0.0, 'snowdepth': 0.0, 'preciptype': None, 'windgust': 11.2, 'windspeed': 1.8, 'winddir': 346.0, 'pressure': 1016.8, 'visibility': 9.9, 'cloudcover': 17.5, 'solarradiation': 0.0, 'solarenergy': 0.0, 'uvindex': 0.0, 'conditions': 'Clear', 'icon': 'clear-night', 'stations': ['KHWO', '72202412882', '72203792809', 'KMIA', 'KOPF', '72202012839'], 'source': 'obs'}, {'datetime': '04:00:00', 'datetimeEpoch': 1421226000, 'temp': 69.2, 'feelslike': 69.2, 'humidity': 95.22, 'dew': 67.8, 'precip': 0.0, 'precipprob': 0.0, 'snow': 0.0, 'snowdepth': 0.0, 'preciptype': None, 'windgust': 11.4, 'windspeed': 4.7, 'winddir': 337.0, 'pressure': 1016.3, 'visibility': 6.5, 'cloudcover': 22.8, 'solarradiation': 0.0, 'solarenergy': 0.0, 'uvindex': 0.0, 'conditions': 'Partially cloudy', 'icon': 'partly-cloudy-night', 'stations': ['KHWO', '72202412882', '72203792809', 'KMIA', 'KOPF', '72202012839'], 'source': 'obs'}, {'datetime': '05:00:00', 'datetimeEpoch': 1421229600, 'temp': 68.6, 'feelslike': 68.6, 'humidity': 97.0, 'dew': 67.7, 'precip': 0.0, 'precipprob': 0.0, 'snow': 0.0, 'snowdepth': 0.0, 'preciptype': None, 'windgust': 10.3, 'windspeed': 3.8, 'winddir': 348.0, 'pressure': 1016.4, 'visibility': 0.2, 'cloudcover': 100.0, 'solarradiation': 0.0, 'solarenergy': 0.0, 'uvindex': 0.0, 'conditions': 'Overcast', 'icon': 'fog', 'stations': ['KHWO', '72202412882', '72203792809', 'KMIA', 'KOPF', '72202012839'], 'source': 'obs'}, {'datetime': '06:00:00', 'datetimeEpoch': 1421233200, 'temp': 68.6, 'feelslike': 68.6, 'humidity': 97.0, 'dew': 67.7, 'precip': 0.0, 'precipprob': 0.0, 'snow': 0.0, 'snowdepth': 0.0, 'preciptype': None, 'windgust': 10.3, 'windspeed': 3.8, 'winddir': 328.0, 'pressure': 1016.9, 'visibility': 0.4, 'cloudcover': 100.0, 'solarradiation': 0.0, 'solarenergy': 0.0, 'uvindex': 0.0, 'conditions': 'Overcast', 'icon': 'fog', 'stations': ['KHWO', '72202412882', '72203792809', 'KMIA', 'KOPF', '72202012839'], 'source': 'obs'}, {'datetime': '07:00:00', 'datetimeEpoch': 1421236800, 'temp': 68.3, 'feelslike': 68.3, 'humidity': 97.0, 'dew': 67.5, 'precip': 0.0, 'precipprob': 0.0, 'snow': 0.0, 'snowdepth': 0.0, 'preciptype': None, 'windgust': 11.4, 'windspeed': 5.9, 'winddir': 337.0, 'pressure': 1017.7, 'visibility': 0.8, 'cloudcover': 100.0, 'solarradiation': 0.0, 'solarenergy': 0.0, 'uvindex': 0.0, 'conditions': 'Overcast', 'icon': 'fog', 'stations': ['KHWO', '72202412882', '72203792809', 'KMIA', 'KOPF', '72202012839'], 'source': 'obs'}, {'datetime': '08:00:00', 'datetimeEpoch': 1421240400, 'temp': 67.7, 'feelslike': 67.7, 'humidity': 99.56, 'dew': 67.6, 'precip': 0.0, 'precipprob': 0.0, 'snow': 0.0, 'snowdepth': 0.0, 'preciptype': None, 'windgust': 15.0, 'windspeed': 6.8, 'winddir': 346.0, 'pressure': 1018.4, 'visibility': 2.0, 'cloudcover': 100.0, 'solarradiation': 30.7, 'solarenergy': 0.1, 'uvindex': 0.0, 'conditions': 'Overcast', 'icon': 'cloudy', 'stations': ['KHWO', '72202412882', '72203792809', 'KMIA', 'KOPF', '72202012839'], 'source': 'obs'}, {'datetime': '09:00:00', 'datetimeEpoch': 1421244000, 'temp': 67.6, 'feelslike': 67.6, 'humidity': 97.08, 'dew': 66.7, 'precip': 0.0, 'precipprob': 0.0, 'snow': 0.0, 'snowdepth': 0.0, 'preciptype': None, 'windgust': 19.0, 'windspeed': 7.0, 'winddir': 356.0, 'pressure': 1018.8, 'visibility': 1.5, 'cloudcover': 100.0, 'solarradiation': 138.3, 'solarenergy': 0.5, 'uvindex': 1.0, 'conditions': 'Overcast', 'icon': 'cloudy', 'stations': ['KHWO', '72202412882', '72203792809', 'KMIA', 'KOPF', '72202012839'], 'source': 'obs'}, {'datetime': '10:00:00', 'datetimeEpoch': 1421247600, 'temp': 70.1, 'feelslike': 70.1, 'humidity': 89.47, 'dew': 66.8, 'precip': 0.0, 'precipprob': 0.0, 'snow': 0.0, 'snowdepth': 0.0, 'preciptype': None, 'windgust': 20.6, 'windspeed': 6.5, 'winddir': 360.0, 'pressure': 1019.4, 'visibility': 8.0, 'cloudcover': 97.2, 'solarradiation': 225.6, 'solarenergy': 0.8, 'uvindex': 2.0, 'conditions': 'Overcast', 'icon': 'cloudy', 'stations': ['KHWO', '72202412882', '72203792809', 'KMIA', 'KOPF', '72202012839'], 'source': 'obs'}, {'datetime': '11:00:00', 'datetimeEpoch': 1421251200, 'temp': 73.0, 'feelslike': 73.0, 'humidity': 78.68, 'dew': 66.0, 'precip': 0.0, 'precipprob': 0.0, 'snow': 0.0, 'snowdepth': 0.0, 'preciptype': None, 'windgust': 20.1, 'windspeed': 7.6, 'winddir': 19.0, 'pressure': 1018.9, 'visibility': 9.9, 'cloudcover': 100.0, 'solarradiation': 359.6, 'solarenergy': 1.3, 'uvindex': 4.0, 'conditions': 'Overcast', 'icon': 'cloudy', 'stations': ['KHWO', '72202412882', '72203792809', 'KMIA', 'KOPF', '72202012839'], 'source': 'obs'}, {'datetime': '12:00:00', 'datetimeEpoch': 1421254800, 'temp': 74.6, 'feelslike': 74.6, 'humidity': 75.27, 'dew': 66.3, 'precip': 0.0, 'precipprob': 0.0, 'snow': 0.0, 'snowdepth': 0.0, 'preciptype': None, 'windgust': 18.8, 'windspeed': 9.6, 'winddir': 360.0, 'pressure': 1018.2, 'visibility': 9.9, 'cloudcover': 92.9, 'solarradiation': 523.4, 'solarenergy': 1.9, 'uvindex': 5.0, 'conditions': 'Overcast', 'icon': 'cloudy', 'stations': ['KHWO', '72202412882', '72203792809', 'KMIA', 'KOPF', '72202012839'], 'source': 'obs'}, {'datetime': '13:00:00', 'datetimeEpoch': 1421258400, 'temp': 75.7, 'feelslike': 75.7, 'humidity': 72.24, 'dew': 66.2, 'precip': 0.0, 'precipprob': 0.0, 'snow': 0.0, 'snowdepth': 0.0, 'preciptype': None, 'windgust': 17.9, 'windspeed': 8.6, 'winddir': 353.0, 'pressure': 1017.1, 'visibility': 9.9, 'cloudcover': 91.7, 'solarradiation': 566.2, 'solarenergy': 2.0, 'uvindex': 6.0, 'conditions': 'Overcast', 'icon': 'cloudy', 'stations': ['KHWO', '72202412882', '72203792809', 'KMIA', 'KOPF', '72202012839'], 'source': 'obs'}, {'datetime': '14:00:00', 'datetimeEpoch': 1421262000, 'temp': 74.1, 'feelslike': 74.1, 'humidity': 75.61, 'dew': 65.9, 'precip': 0.0, 'precipprob': 0.0, 'snow': 0.0, 'snowdepth': 0.0, 'preciptype': None, 'windgust': 16.8, 'windspeed': 10.5, 'winddir': 311.0, 'pressure': 1016.7, 'visibility': 9.9, 'cloudcover': 92.9, 'solarradiation': 536.0, 'solarenergy': 1.9, 'uvindex': 5.0, 'conditions': 'Overcast', 'icon': 'cloudy', 'stations': ['KHWO', '72202412882', '72203792809', 'KMIA', 'KOPF', '72202012839'], 'source': 'obs'}, {'datetime': '15:00:00', 'datetimeEpoch': 1421265600, 'temp': 75.6, 'feelslike': 75.6, 'humidity': 70.67, 'dew': 65.4, 'precip': 0.0, 'precipprob': 0.0, 'snow': 0.0, 'snowdepth': 0.0, 'preciptype': None, 'windgust': 16.6, 'windspeed': 9.6, 'winddir': 343.0, 'pressure': 1016.2, 'visibility': 9.9, 'cloudcover': 88.8, 'solarradiation': 389.1, 'solarenergy': 1.4, 'uvindex': 4.0, 'conditions': 'Partially cloudy', 'icon': 'partly-cloudy-day', 'stations': ['KHWO', '72202412882', '72203792809', 'KMIA', 'KOPF', '72202012839'], 'source': 'obs'}, {'datetime': '16:00:00', 'datetimeEpoch': 1421269200, 'temp': 76.4, 'feelslike': 76.4, 'humidity': 70.69, 'dew': 66.2, 'precip': 0.0, 'precipprob': 0.0, 'snow': 0.0, 'snowdepth': 0.0, 'preciptype': None, 'windgust': 16.3, 'windspeed': 7.9, 'winddir': 335.0, 'pressure': 1016.3, 'visibility': 9.9, 'cloudcover': 78.9, 'solarradiation': 289.4, 'solarenergy': 1.0, 'uvindex': 3.0, 'conditions': 'Partially cloudy', 'icon': 'partly-cloudy-day', 'stations': ['KHWO', '72202412882', '72203792809', 'KMIA', 'KOPF', '72202012839'], 'source': 'obs'}, {'datetime': '17:00:00', 'datetimeEpoch': 1421272800, 'temp': 75.7, 'feelslike': 75.7, 'humidity': 71.66, 'dew': 65.9, 'precip': 0.0, 'precipprob': 0.0, 'snow': 0.0, 'snowdepth': 0.0, 'preciptype': None, 'windgust': 17.0, 'windspeed': 8.9, 'winddir': 313.0, 'pressure': 1016.6, 'visibility': 9.9, 'cloudcover': 90.0, 'solarradiation': 138.3, 'solarenergy': 0.5, 'uvindex': 1.0, 'conditions': 'Partially cloudy', 'icon': 'partly-cloudy-day', 'stations': ['KHWO', '72202412882', '72203792809', 'KMIA', 'KOPF', '72202012839'], 'source': 'obs'}, {'datetime': '18:00:00', 'datetimeEpoch': 1421276400, 'temp': 73.5, 'feelslike': 73.5, 'humidity': 77.59, 'dew': 66.0, 'precip': 0.001, 'precipprob': 100.0, 'snow': 0.0, 'snowdepth': 0.0, 'preciptype': ['rain'], 'windgust': 17.9, 'windspeed': 6.6, 'winddir': 322.0, 'pressure': 1017.4, 'visibility': 9.9, 'cloudcover': 100.0, 'solarradiation': 27.3, 'solarenergy': 0.1, 'uvindex': 0.0, 'conditions': 'Rain, Overcast', 'icon': 'rain', 'stations': ['KHWO', '72202412882', '72203792809', 'KMIA', 'KOPF', '72202012839'], 'source': 'obs'}, {'datetime': '19:00:00', 'datetimeEpoch': 1421280000, 'temp': 71.9, 'feelslike': 71.9, 'humidity': 81.57, 'dew': 65.9, 'precip': 0.001, 'precipprob': 100.0, 'snow': None, 'snowdepth': 0.0, 'preciptype': ['rain'], 'windgust': 19.9, 'windspeed': 9.8, 'winddir': 333.0, 'pressure': 1017.8, 'visibility': 9.9, 'cloudcover': 100.0, 'solarradiation': 0.0, 'solarenergy': 0.0, 'uvindex': 0.0, 'conditions': 'Rain, Overcast', 'icon': 'rain', 'stations': ['KHWO', '72202412882', '72203792809', 'KMIA', 'KOPF', '72202012839'], 'source': 'obs'}, {'datetime': '20:00:00', 'datetimeEpoch': 1421283600, 'temp': 71.0, 'feelslike': 71.0, 'humidity': 81.53, 'dew': 65.0, 'precip': 0.0, 'precipprob': 0.0, 'snow': None, 'snowdepth': 0.0, 'preciptype': None, 'windgust': 20.4, 'windspeed': 7.8, 'winddir': 326.0, 'pressure': 1018.3, 'visibility': 9.9, 'cloudcover': 92.1, 'solarradiation': 0.0, 'solarenergy': 0.0, 'uvindex': 0.0, 'conditions': 'Overcast', 'icon': 'cloudy', 'stations': ['KHWO', '72202412882', '72203792809', 'KMIA', 'KOPF', '72202012839'], 'source': 'obs'}, {'datetime': '21:00:00', 'datetimeEpoch': 1421287200, 'temp': 69.7, 'feelslike': 69.7, 'humidity': 85.0, 'dew': 65.0, 'precip': 0.0, 'precipprob': 0.0, 'snow': None, 'snowdepth': 0.0, 'preciptype': None, 'windgust': 20.6, 'windspeed': 5.2, 'winddir': 335.0, 'pressure': 1018.4, 'visibility': 9.9, 'cloudcover': 37.2, 'solarradiation': 0.0, 'solarenergy': 0.0, 'uvindex': 0.0, 'conditions': 'Partially cloudy', 'icon': 'partly-cloudy-night', 'stations': ['KHWO', '72202412882', '72203792809', 'KMIA', 'KOPF', '72202012839'], 'source': 'obs'}, {'datetime': '22:00:00', 'datetimeEpoch': 1421290800, 'temp': 69.6, 'feelslike': 69.6, 'humidity': 85.08, 'dew': 64.9, 'precip': 0.0, 'precipprob': 0.0, 'snow': None, 'snowdepth': 0.0, 'preciptype': None, 'windgust': 20.4, 'windspeed': 5.9, 'winddir': 348.0, 'pressure': 1018.4, 'visibility': 9.9, 'cloudcover': 63.4, 'solarradiation': 0.0, 'solarenergy': 0.0, 'uvindex': 0.0, 'conditions': 'Partially cloudy', 'icon': 'partly-cloudy-night', 'stations': ['KHWO', '72202412882', '72203792809', 'KMIA', 'KOPF', '72202012839'], 'source': 'obs'}, {'datetime': '23:00:00', 'datetimeEpoch': 1421294400, 'temp': 68.6, 'feelslike': 68.6, 'humidity': 86.95, 'dew': 64.6, 'precip': 0.0, 'precipprob': 0.0, 'snow': None, 'snowdepth': 0.0, 'preciptype': None, 'windgust': 19.9, 'windspeed': 4.7, 'winddir': 355.0, 'pressure': 1018.6, 'visibility': 9.9, 'cloudcover': 20.1, 'solarradiation': 0.0, 'solarenergy': 0.0, 'uvindex': 0.0, 'conditions': 'Partially cloudy', 'icon': 'partly-cloudy-night', 'stations': ['KHWO', '72202412882', '72203792809', 'KMIA', 'KOPF', '72202012839'], 'source': 'obs'}]}, {'datetime': '2015-01-15', 'datetimeEpoch': 1421298000, 'tempmax': 77.6, 'tempmin': 63.1, 'temp': 70.2, 'feelslikemax': 77.6, 'feelslikemin': 63.1, 'feelslike': 70.2, 'dew': 63.4, 'humidity': 79.7, 'precip': 0.0, 'precipprob': 0.0, 'precipcover': 0.0, 'preciptype': None, 'snow': 0.0, 'snowdepth': 0.0, 'windgust': 23.3, 'windspeed': 9.8, 'winddir': 333.5, 'pressure': 1018.0, 'cloudcover': 87.4, 'visibility': 9.2, 'solarradiation': 129.2, 'solarenergy': 11.1, 'uvindex': 6.0, 'sunrise': '07:09:10', 'sunriseEpoch': 1421323750, 'sunset': '17:51:24', 'sunsetEpoch': 1421362284, 'moonphase': 0.84, 'conditions': 'Partially cloudy', 'description': 'Partly cloudy throughout the day.', 'icon': 'partly-cloudy-day', 'stations': ['KHWO', '72202412882', '72203792809', 'KMIA', 'KOPF', '72202012839'], 'source': 'obs', 'hours': [{'datetime': '00:00:00', 'datetimeEpoch': 1421298000, 'temp': 69.0, 'feelslike': 69.0, 'humidity': 84.37, 'dew': 64.1, 'precip': 0.0, 'precipprob': 0.0, 'snow': 0.0, 'snowdepth': 0.0, 'preciptype': None, 'windgust': 18.8, 'windspeed': 6.5, 'winddir': 346.0, 'pressure': 1018.2, 'visibility': 9.9, 'cloudcover': 100.0, 'solarradiation': 0.0, 'solarenergy': 0.0, 'uvindex': 0.0, 'conditions': 'Overcast', 'icon': 'cloudy', 'stations': ['KHWO', '72202412882', '72203792809', 'KMIA', 'KOPF', '72202012839'], 'source': 'obs'}, {'datetime': '01:00:00', 'datetimeEpoch': 1421301600, 'temp': 68.0, 'feelslike': 68.0, 'humidity': 87.1, 'dew': 64.0, 'precip': 0.0, 'precipprob': 0.0, 'snow': 0.0, 'snowdepth': 0.0, 'preciptype': None, 'windgust': 17.9, 'windspeed': 2.5, 'winddir': 341.0, 'pressure': 1017.7, 'visibility': 9.2, 'cloudcover': 97.2, 'solarradiation': 0.0, 'solarenergy': 0.0, 'uvindex': 0.0, 'conditions': 'Overcast', 'icon': 'cloudy', 'stations': ['KHWO', '72202412882', '72203792809', 'KMIA', 'KOPF', '72202012839'], 'source': 'obs'}, {'datetime': '02:00:00', 'datetimeEpoch': 1421305200, 'temp': 67.6, 'feelslike': 67.6, 'humidity': 87.46, 'dew': 63.7, 'precip': 0.0, 'precipprob': 0.0, 'snow': 0.0, 'snowdepth': 0.0, 'preciptype': None, 'windgust': 15.4, 'windspeed': 9.5, 'winddir': 324.0, 'pressure': 1018.2, 'visibility': 8.8, 'cloudcover': 100.0, 'solarradiation': 0.0, 'solarenergy': 0.0, 'uvindex': 0.0, 'conditions': 'Overcast', 'icon': 'cloudy', 'stations': ['KHWO', '72202412882', '72203792809', 'KMIA', 'KOPF', '72202012839'], 'source': 'obs'}, {'datetime': '03:00:00', 'datetimeEpoch': 1421308800, 'temp': 64.6, 'feelslike': 64.6, 'humidity': 93.11, 'dew': 62.5, 'precip': 0.0, 'precipprob': 0.0, 'snow': 0.0, 'snowdepth': 0.0, 'preciptype': None, 'windgust': 20.6, 'windspeed': 9.8, 'winddir': 320.0, 'pressure': 1018.1, 'visibility': 6.8, 'cloudcover': 100.0, 'solarradiation': 0.0, 'solarenergy': 0.0, 'uvindex': 0.0, 'conditions': 'Overcast', 'icon': 'cloudy', 'stations': ['KHWO', '72202412882', '72203792809', 'KMIA', 'KOPF', '72202012839'], 'source': 'obs'}, {'datetime': '04:00:00', 'datetimeEpoch': 1421312400, 'temp': 64.6, 'feelslike': 64.6, 'humidity': 90.44, 'dew': 61.7, 'precip': 0.0, 'precipprob': 0.0, 'snow': 0.0, 'snowdepth': 0.0, 'preciptype': None, 'windgust': 23.3, 'windspeed': 7.2, 'winddir': 339.0, 'pressure': 1017.9, 'visibility': 9.9, 'cloudcover': 98.8, 'solarradiation': 0.0, 'solarenergy': 0.0, 'uvindex': 0.0, 'conditions': 'Overcast', 'icon': 'cloudy', 'stations': ['KHWO', '72202412882', '72203792809', 'KMIA', 'KOPF', '72202012839'], 'source': 'obs'}, {'datetime': '05:00:00', 'datetimeEpoch': 1421316000, 'temp': 64.6, 'feelslike': 64.6, 'humidity': 88.1, 'dew': 61.0, 'precip': 0.0, 'precipprob': 0.0, 'snow': 0.0, 'snowdepth': 0.0, 'preciptype': None, 'windgust': 23.3, 'windspeed': 9.0, 'winddir': 339.0, 'pressure': 1017.6, 'visibility': 9.9, 'cloudcover': 100.0, 'solarradiation': 0.0, 'solarenergy': 0.0, 'uvindex': 0.0, 'conditions': 'Overcast', 'icon': 'cloudy', 'stations': ['KHWO', '72202412882', '72203792809', 'KMIA', 'KOPF', '72202012839'], 'source': 'obs'}, {'datetime': '06:00:00', 'datetimeEpoch': 1421319600, 'temp': 63.7, 'feelslike': 63.7, 'humidity': 90.4, 'dew': 60.8, 'precip': 0.0, 'precipprob': 0.0, 'snow': 0.0, 'snowdepth': 0.0, 'preciptype': None, 'windgust': 22.4, 'windspeed': 8.0, 'winddir': 337.0, 'pressure': 1018.2, 'visibility': 8.8, 'cloudcover': 100.0, 'solarradiation': 0.0, 'solarenergy': 0.0, 'uvindex': 0.0, 'conditions': 'Overcast', 'icon': 'cloudy', 'stations': ['KHWO', '72202412882', '72203792809', 'KMIA', 'KOPF', '72202012839'], 'source': 'obs'}, {'datetime': '07:00:00', 'datetimeEpoch': 1421323200, 'temp': 63.1, 'feelslike': 63.1, 'humidity': 91.21, 'dew': 60.5, 'precip': 0.0, 'precipprob': 0.0, 'snow': 0.0, 'snowdepth': 0.0, 'preciptype': None, 'windgust': 21.3, 'windspeed': 6.9, 'winddir': 353.0, 'pressure': 1019.0, 'visibility': 6.8, 'cloudcover': 100.0, 'solarradiation': 0.0, 'solarenergy': 0.0, 'uvindex': 0.0, 'conditions': 'Overcast', 'icon': 'cloudy', 'stations': ['KHWO', '72202412882', '72203792809', 'KMIA', 'KOPF', '72202012839'], 'source': 'obs'}, {'datetime': '08:00:00', 'datetimeEpoch': 1421326800, 'temp': 64.1, 'feelslike': 64.1, 'humidity': 90.6, 'dew': 61.3, 'precip': 0.0, 'precipprob': 0.0, 'snow': 0.0, 'snowdepth': 0.0, 'preciptype': None, 'windgust': 20.4, 'windspeed': 7.5, 'winddir': 340.0, 'pressure': 1019.1, 'visibility': 6.8, 'cloudcover': 100.0, 'solarradiation': 35.7, 'solarenergy': 0.1, 'uvindex': 0.0, 'conditions': 'Overcast', 'icon': 'cloudy', 'stations': ['KHWO', '72202412882', '72203792809', 'KMIA', 'KOPF', '72202012839'], 'source': 'obs'}, {'datetime': '09:00:00', 'datetimeEpoch': 1421330400, 'temp': 67.2, 'feelslike': 67.2, 'humidity': 83.54, 'dew': 62.1, 'precip': 0.0, 'precipprob': 0.0, 'snow': 0.0, 'snowdepth': 0.0, 'preciptype': None, 'windgust': 21.3, 'windspeed': 6.5, 'winddir': 354.0, 'pressure': 1019.3, 'visibility': 7.6, 'cloudcover': 68.2, 'solarradiation': 202.0, 'solarenergy': 0.7, 'uvindex': 2.0, 'conditions': 'Partially cloudy', 'icon': 'partly-cloudy-day', 'stations': ['KHWO', '72202412882', '72203792809', 'KMIA', 'KOPF', '72202012839'], 'source': 'obs'}, {'datetime': '10:00:00', 'datetimeEpoch': 1421334000, 'temp': 69.2, 'feelslike': 69.2, 'humidity': 80.34, 'dew': 62.9, 'precip': 0.0, 'precipprob': 0.0, 'snow': 0.0, 'snowdepth': 0.0, 'preciptype': None, 'windgust': 20.8, 'windspeed': 6.8, 'winddir': 349.0, 'pressure': 1020.0, 'visibility': 7.6, 'cloudcover': 90.0, 'solarradiation': 381.9, 'solarenergy': 1.4, 'uvindex': 4.0, 'conditions': 'Partially cloudy', 'icon': 'partly-cloudy-day', 'stations': ['KHWO', '72202412882', '72203792809', 'KMIA', 'KOPF', '72202012839'], 'source': 'obs'}, {'datetime': '11:00:00', 'datetimeEpoch': 1421337600, 'temp': 71.0, 'feelslike': 71.0, 'humidity': 75.9, 'dew': 63.0, 'precip': 0.0, 'precipprob': 0.0, 'snow': 0.0, 'snowdepth': 0.0, 'preciptype': None, 'windgust': 20.1, 'windspeed': 5.6, 'winddir': 318.0, 'pressure': 1019.8, 'visibility': 9.7, 'cloudcover': 90.0, 'solarradiation': 503.3, 'solarenergy': 1.8, 'uvindex': 5.0, 'conditions': 'Partially cloudy', 'icon': 'partly-cloudy-day', 'stations': ['KHWO', '72202412882', '72203792809', 'KMIA', 'KOPF', '72202012839'], 'source': 'obs'}, {'datetime': '12:00:00', 'datetimeEpoch': 1421341200, 'temp': 71.7, 'feelslike': 71.7, 'humidity': 76.95, 'dew': 64.1, 'precip': 0.0, 'precipprob': 0.0, 'snow': 0.0, 'snowdepth': 0.0, 'preciptype': None, 'windgust': 19.2, 'windspeed': 7.8, 'winddir': 304.0, 'pressure': 1019.0, 'visibility': 9.9, 'cloudcover': 84.6, 'solarradiation': 584.1, 'solarenergy': 2.1, 'uvindex': 6.0, 'conditions': 'Partially cloudy', 'icon': 'partly-cloudy-day', 'stations': ['KHWO', '72202412882', '72203792809', 'KMIA', 'KOPF', '72202012839'], 'source': 'obs'}, {'datetime': '13:00:00', 'datetimeEpoch': 1421344800, 'temp': 73.9, 'feelslike': 73.9, 'humidity': 72.31, 'dew': 64.5, 'precip': 0.0, 'precipprob': 0.0, 'snow': 0.0, 'snowdepth': 0.0, 'preciptype': None, 'windgust': 17.2, 'windspeed': 3.0, 'winddir': 305.0, 'pressure': 1017.7, 'visibility': 9.9, 'cloudcover': 82.1, 'solarradiation': 530.5, 'solarenergy': 1.9, 'uvindex': 5.0, 'conditions': 'Partially cloudy', 'icon': 'partly-cloudy-day', 'stations': ['KHWO', '72202412882', '72203792809', 'KMIA', 'KOPF', '72202012839'], 'source': 'obs'}, {'datetime': '14:00:00', 'datetimeEpoch': 1421348400, 'temp': 76.3, 'feelslike': 76.3, 'humidity': 66.98, 'dew': 64.6, 'precip': 0.0, 'precipprob': 0.0, 'snow': 0.0, 'snowdepth': 0.0, 'preciptype': None, 'windgust': 9.6, 'windspeed': 3.4, 'winddir': 87.0, 'pressure': 1017.1, 'visibility': 9.9, 'cloudcover': 68.8, 'solarradiation': 290.0, 'solarenergy': 1.0, 'uvindex': 3.0, 'conditions': 'Partially cloudy', 'icon': 'partly-cloudy-day', 'stations': ['KHWO', '72202412882', '72203792809', 'KMIA', 'KOPF', '72202012839'], 'source': 'obs'}, {'datetime': '15:00:00', 'datetimeEpoch': 1421352000, 'temp': 77.4, 'feelslike': 77.4, 'humidity': 64.91, 'dew': 64.7, 'precip': 0.0, 'precipprob': 0.0, 'snow': 0.0, 'snowdepth': 0.0, 'preciptype': None, 'windgust': 8.3, 'windspeed': 0.0, 'winddir': 0.0, 'pressure': 1016.7, 'visibility': 9.9, 'cloudcover': 88.8, 'solarradiation': 254.0, 'solarenergy': 0.9, 'uvindex': 3.0, 'conditions': 'Partially cloudy', 'icon': 'partly-cloudy-day', 'stations': ['KHWO', '72202412882', '72203792809', 'KMIA', 'KOPF', '72202012839'], 'source': 'obs'}, {'datetime': '16:00:00', 'datetimeEpoch': 1421355600, 'temp': 77.6, 'feelslike': 77.6, 'humidity': 66.0, 'dew': 65.4, 'precip': 0.0, 'precipprob': 0.0, 'snow': 0.0, 'snowdepth': 0.0, 'preciptype': None, 'windgust': 6.9, 'windspeed': 5.2, 'winddir': 100.0, 'pressure': 1016.3, 'visibility': 9.9, 'cloudcover': 88.8, 'solarradiation': 197.9, 'solarenergy': 0.7, 'uvindex': 2.0, 'conditions': 'Partially cloudy', 'icon': 'partly-cloudy-day', 'stations': ['KHWO', '72202412882', '72203792809', 'KMIA', 'KOPF', '72202012839'], 'source': 'obs'}, {'datetime': '17:00:00', 'datetimeEpoch': 1421359200, 'temp': 76.8, 'feelslike': 76.8, 'humidity': 69.26, 'dew': 65.9, 'precip': 0.0, 'precipprob': 0.0, 'snow': 0.0, 'snowdepth': 0.0, 'preciptype': None, 'windgust': 6.9, 'windspeed': 5.6, 'winddir': 332.0, 'pressure': 1016.7, 'visibility': 9.9, 'cloudcover': 88.8, 'solarradiation': 97.5, 'solarenergy': 0.4, 'uvindex': 1.0, 'conditions': 'Partially cloudy', 'icon': 'partly-cloudy-day', 'stations': ['KHWO', '72202412882', '72203792809', 'KMIA', 'KOPF', '72202012839'], 'source': 'obs'}, {'datetime': '18:00:00', 'datetimeEpoch': 1421362800, 'temp': 74.9, 'feelslike': 74.9, 'humidity': 71.58, 'dew': 65.1, 'precip': 0.0, 'precipprob': 0.0, 'snow': 0.0, 'snowdepth': 0.0, 'preciptype': None, 'windgust': 6.3, 'windspeed': 6.8, 'winddir': 303.0, 'pressure': 1016.9, 'visibility': 9.9, 'cloudcover': 82.1, 'solarradiation': 24.7, 'solarenergy': 0.1, 'uvindex': 0.0, 'conditions': 'Partially cloudy', 'icon': 'partly-cloudy-night', 'stations': ['KHWO', '72202412882', '72203792809', 'KMIA', 'KOPF', '72202012839'], 'source': 'obs'}, {'datetime': '19:00:00', 'datetimeEpoch': 1421366400, 'temp': 73.9, 'feelslike': 73.9, 'humidity': 73.76, 'dew': 65.0, 'precip': 0.0, 'precipprob': 0.0, 'snow': None, 'snowdepth': 0.0, 'preciptype': None, 'windgust': 7.2, 'windspeed': 4.9, 'winddir': 325.0, 'pressure': 1017.1, 'visibility': 9.9, 'cloudcover': 66.1, 'solarradiation': 0.0, 'solarenergy': 0.0, 'uvindex': 0.0, 'conditions': 'Partially cloudy', 'icon': 'partly-cloudy-night', 'stations': ['KHWO', '72202412882', '72203792809', 'KMIA', 'KOPF', '72202012839'], 'source': 'obs'}, {'datetime': '20:00:00', 'datetimeEpoch': 1421370000, 'temp': 73.6, 'feelslike': 73.6, 'humidity': 74.4, 'dew': 64.9, 'precip': 0.0, 'precipprob': 0.0, 'snow': None, 'snowdepth': 0.0, 'preciptype': None, 'windgust': 10.5, 'windspeed': 6.5, 'winddir': 331.0, 'pressure': 1017.7, 'visibility': 9.9, 'cloudcover': 64.2, 'solarradiation': 0.0, 'solarenergy': 0.0, 'uvindex': 0.0, 'conditions': 'Partially cloudy', 'icon': 'partly-cloudy-night', 'stations': ['KHWO', '72202412882', '72203792809', 'KMIA', 'KOPF', '72202012839'], 'source': 'obs'}, {'datetime': '21:00:00', 'datetimeEpoch': 1421373600, 'temp': 72.3, 'feelslike': 72.3, 'humidity': 75.27, 'dew': 64.0, 'precip': 0.0, 'precipprob': 0.0, 'snow': None, 'snowdepth': 0.0, 'preciptype': None, 'windgust': 13.2, 'windspeed': 5.8, 'winddir': 338.0, 'pressure': 1017.7, 'visibility': 9.9, 'cloudcover': 56.4, 'solarradiation': 0.0, 'solarenergy': 0.0, 'uvindex': 0.0, 'conditions': 'Partially cloudy', 'icon': 'partly-cloudy-night', 'stations': ['KHWO', '72202412882', '72203792809', 'KMIA', 'KOPF', '72202012839'], 'source': 'obs'}, {'datetime': '22:00:00', 'datetimeEpoch': 1421377200, 'temp': 70.6, 'feelslike': 70.6, 'humidity': 77.94, 'dew': 63.4, 'precip': 0.0, 'precipprob': 0.0, 'snow': None, 'snowdepth': 0.0, 'preciptype': None, 'windgust': 13.2, 'windspeed': 6.9, 'winddir': 325.0, 'pressure': 1017.8, 'visibility': 9.9, 'cloudcover': 82.1, 'solarradiation': 0.0, 'solarenergy': 0.0, 'uvindex': 0.0, 'conditions': 'Partially cloudy', 'icon': 'partly-cloudy-night', 'stations': ['KHWO', '72202412882', '72203792809', 'KMIA', 'KOPF', '72202012839'], 'source': 'obs'}, {'datetime': '23:00:00', 'datetimeEpoch': 1421380800, 'temp': 69.2, 'feelslike': 69.2, 'humidity': 81.52, 'dew': 63.3, 'precip': 0.0, 'precipprob': 0.0, 'snow': None, 'snowdepth': 0.0, 'preciptype': None, 'windgust': 12.1, 'windspeed': 9.2, 'winddir': 318.0, 'pressure': 1018.0, 'visibility': 9.9, 'cloudcover': 100.0, 'solarradiation': 0.0, 'solarenergy': 0.0, 'uvindex': 0.0, 'conditions': 'Overcast', 'icon': 'cloudy', 'stations': ['KHWO', '72202412882', '72203792809', 'KMIA', 'KOPF', '72202012839'], 'source': 'obs'}]}, {'datetime': '2015-01-16', 'datetimeEpoch': 1421384400, 'tempmax': 73.2, 'tempmin': 62.2, 'temp': 66.6, 'feelslikemax': 73.2, 'feelslikemin': 62.2, 'feelslike': 66.6, 'dew': 56.4, 'humidity': 70.2, 'precip': 0.0, 'precipprob': 0.0, 'precipcover': 0.0, 'preciptype': None, 'snow': 0.0, 'snowdepth': 0.0, 'windgust': 24.4, 'windspeed': 14.5, 'winddir': 347.6, 'pressure': 1018.0, 'cloudcover': 70.1, 'visibility': 9.8, 'solarradiation': 113.1, 'solarenergy': 9.9, 'uvindex': 6.0, 'sunrise': '07:09:06', 'sunriseEpoch': 1421410146, 'sunset': '17:52:10', 'sunsetEpoch': 1421448730, 'moonphase': 0.87, 'conditions': 'Partially cloudy', 'description': 'Partly cloudy throughout the day.', 'icon': 'partly-cloudy-day', 'stations': ['KHWO', '72202412882', '72203792809', 'KMIA', 'KOPF', '72202012839'], 'source': 'obs', 'hours': [{'datetime': '00:00:00', 'datetimeEpoch': 1421384400, 'temp': 68.9, 'feelslike': 68.9, 'humidity': 82.88, 'dew': 63.5, 'precip': 0.0, 'precipprob': 0.0, 'snow': 0.0, 'snowdepth': 0.0, 'preciptype': None, 'windgust': 10.5, 'windspeed': 6.0, 'winddir': 331.0, 'pressure': 1017.7, 'visibility': 9.2, 'cloudcover': 98.8, 'solarradiation': 0.0, 'solarenergy': 0.0, 'uvindex': 0.0, 'conditions': 'Overcast', 'icon': 'cloudy', 'stations': ['KHWO', '72202412882', '72203792809', 'KMIA', 'KOPF', '72202012839'], 'source': 'obs'}, {'datetime': '01:00:00', 'datetimeEpoch': 1421388000, 'temp': 67.1, 'feelslike': 67.1, 'humidity': 82.47, 'dew': 61.6, 'precip': 0.0, 'precipprob': 0.0, 'snow': 0.0, 'snowdepth': 0.0, 'preciptype': None, 'windgust': 8.7, 'windspeed': 8.1, 'winddir': 323.0, 'pressure': 1017.2, 'visibility': 9.9, 'cloudcover': 32.9, 'solarradiation': 0.0, 'solarenergy': 0.0, 'uvindex': 0.0, 'conditions': 'Partially cloudy', 'icon': 'partly-cloudy-night', 'stations': ['KHWO', '72202412882', '72203792809', 'KMIA', 'KOPF', '72202012839'], 'source': 'obs'}, {'datetime': '02:00:00', 'datetimeEpoch': 1421391600, 'temp': 65.5, 'feelslike': 65.5, 'humidity': 82.9, 'dew': 60.2, 'precip': 0.0, 'precipprob': 0.0, 'snow': 0.0, 'snowdepth': 0.0, 'preciptype': None, 'windgust': 12.3, 'windspeed': 6.5, 'winddir': 356.0, 'pressure': 1016.5, 'visibility': 9.9, 'cloudcover': 28.2, 'solarradiation': 0.0, 'solarenergy': 0.0, 'uvindex': 0.0, 'conditions': 'Partially cloudy', 'icon': 'partly-cloudy-night', 'stations': ['KHWO', '72202412882', '72203792809', 'KMIA', 'KOPF', '72202012839'], 'source': 'obs'}, {'datetime': '03:00:00', 'datetimeEpoch': 1421395200, 'temp': 65.0, 'feelslike': 65.0, 'humidity': 84.28, 'dew': 60.2, 'precip': 0.0, 'precipprob': 0.0, 'snow': 0.0, 'snowdepth': 0.0, 'preciptype': None, 'windgust': 12.3, 'windspeed': 7.8, 'winddir': 335.0, 'pressure': 1016.7, 'visibility': 9.9, 'cloudcover': 90.0, 'solarradiation': 0.0, 'solarenergy': 0.0, 'uvindex': 0.0, 'conditions': 'Partially cloudy', 'icon': 'partly-cloudy-night', 'stations': ['KHWO', '72202412882', '72203792809', 'KMIA', 'KOPF', '72202012839'], 'source': 'obs'}, {'datetime': '04:00:00', 'datetimeEpoch': 1421398800, 'temp': 64.1, 'feelslike': 64.1, 'humidity': 83.37, 'dew': 59.0, 'precip': 0.0, 'precipprob': 0.0, 'snow': 0.0, 'snowdepth': 0.0, 'preciptype': None, 'windgust': 15.2, 'windspeed': 7.8, 'winddir': 331.0, 'pressure': 1016.6, 'visibility': 9.9, 'cloudcover': 100.0, 'solarradiation': 0.0, 'solarenergy': 0.0, 'uvindex': 0.0, 'conditions': 'Overcast', 'icon': 'cloudy', 'stations': ['KHWO', '72202412882', '72203792809', 'KMIA', 'KOPF', '72202012839'], 'source': 'obs'}, {'datetime': '05:00:00', 'datetimeEpoch': 1421402400, 'temp': 63.7, 'feelslike': 63.7, 'humidity': 80.24, 'dew': 57.5, 'precip': 0.0, 'precipprob': 0.0, 'snow': 0.0, 'snowdepth': 0.0, 'preciptype': None, 'windgust': 17.7, 'windspeed': 7.0, 'winddir': 336.0, 'pressure': 1016.5, 'visibility': 9.2, 'cloudcover': 100.0, 'solarradiation': 0.0, 'solarenergy': 0.0, 'uvindex': 0.0, 'conditions': 'Overcast', 'icon': 'cloudy', 'stations': ['KHWO', '72202412882', '72203792809', 'KMIA', 'KOPF', '72202012839'], 'source': 'obs'}, {'datetime': '06:00:00', 'datetimeEpoch': 1421406000, 'temp': 62.9, 'feelslike': 62.9, 'humidity': 82.6, 'dew': 57.5, 'precip': 0.0, 'precipprob': 0.0, 'snow': 0.0, 'snowdepth': 0.0, 'preciptype': None, 'windgust': 18.1, 'windspeed': 7.1, 'winddir': 337.0, 'pressure': 1016.7, 'visibility': 9.2, 'cloudcover': 100.0, 'solarradiation': 0.0, 'solarenergy': 0.0, 'uvindex': 0.0, 'conditions': 'Overcast', 'icon': 'cloudy', 'stations': ['KHWO', '72202412882', '72203792809', 'KMIA', 'KOPF', '72202012839'], 'source': 'obs'}, {'datetime': '07:00:00', 'datetimeEpoch': 1421409600, 'temp': 63.7, 'feelslike': 63.7, 'humidity': 77.68, 'dew': 56.6, 'precip': 0.0, 'precipprob': 0.0, 'snow': 0.0, 'snowdepth': 0.0, 'preciptype': None, 'windgust': 19.7, 'windspeed': 6.6, 'winddir': 343.0, 'pressure': 1017.2, 'visibility': 9.2, 'cloudcover': 100.0, 'solarradiation': 0.0, 'solarenergy': 0.0, 'uvindex': 0.0, 'conditions': 'Overcast', 'icon': 'cloudy', 'stations': ['KHWO', '72202412882', '72203792809', 'KMIA', 'KOPF', '72202012839'], 'source': 'obs'}, {'datetime': '08:00:00', 'datetimeEpoch': 1421413200, 'temp': 64.7, 'feelslike': 64.7, 'humidity': 67.83, 'dew': 53.8, 'precip': 0.0, 'precipprob': 0.0, 'snow': 0.0, 'snowdepth': 0.0, 'preciptype': None, 'windgust': 20.4, 'windspeed': 9.5, 'winddir': 339.0, 'pressure': 1018.1, 'visibility': 9.9, 'cloudcover': 100.0, 'solarradiation': 24.9, 'solarenergy': 0.1, 'uvindex': 0.0, 'conditions': 'Overcast', 'icon': 'cloudy', 'stations': ['KHWO', '72202412882', '72203792809', 'KMIA', 'KOPF', '72202012839'], 'source': 'obs'}, {'datetime': '09:00:00', 'datetimeEpoch': 1421416800, 'temp': 64.7, 'feelslike': 64.7, 'humidity': 69.26, 'dew': 54.4, 'precip': 0.0, 'precipprob': 0.0, 'snow': 0.0, 'snowdepth': 0.0, 'preciptype': None, 'windgust': 20.6, 'windspeed': 10.5, 'winddir': 358.0, 'pressure': 1018.7, 'visibility': 9.9, 'cloudcover': 100.0, 'solarradiation': 97.9, 'solarenergy': 0.4, 'uvindex': 1.0, 'conditions': 'Overcast', 'icon': 'cloudy', 'stations': ['KHWO', '72202412882', '72203792809', 'KMIA', 'KOPF', '72202012839'], 'source': 'obs'}, {'datetime': '10:00:00', 'datetimeEpoch': 1421420400, 'temp': 67.6, 'feelslike': 67.6, 'humidity': 68.16, 'dew': 56.7, 'precip': 0.0, 'precipprob': 0.0, 'snow': 0.0, 'snowdepth': 0.0, 'preciptype': None, 'windgust': 19.9, 'windspeed': 8.9, 'winddir': 13.0, 'pressure': 1018.6, 'visibility': 9.9, 'cloudcover': 78.9, 'solarradiation': 171.8, 'solarenergy': 0.6, 'uvindex': 2.0, 'conditions': 'Partially cloudy', 'icon': 'partly-cloudy-day', 'stations': ['KHWO', '72202412882', '72203792809', 'KMIA', 'KOPF', '72202012839'], 'source': 'obs'}, {'datetime': '11:00:00', 'datetimeEpoch': 1421424000, 'temp': 71.1, 'feelslike': 71.1, 'humidity': 65.63, 'dew': 59.0, 'precip': 0.0, 'precipprob': 0.0, 'snow': 0.0, 'snowdepth': 0.0, 'preciptype': None, 'windgust': 19.2, 'windspeed': 10.2, 'winddir': 332.0, 'pressure': 1018.9, 'visibility': 9.9, 'cloudcover': 59.4, 'solarradiation': 321.0, 'solarenergy': 1.2, 'uvindex': 3.0, 'conditions': 'Partially cloudy', 'icon': 'partly-cloudy-day', 'stations': ['KHWO', '72202412882', '72203792809', 'KMIA', 'KOPF', '72202012839'], 'source': 'obs'}, {'datetime': '12:00:00', 'datetimeEpoch': 1421427600, 'temp': 73.2, 'feelslike': 73.2, 'humidity': 61.67, 'dew': 59.3, 'precip': 0.0, 'precipprob': 0.0, 'snow': 0.0, 'snowdepth': 0.0, 'preciptype': None, 'windgust': 19.7, 'windspeed': 11.9, 'winddir': 329.0, 'pressure': 1018.2, 'visibility': 9.9, 'cloudcover': 61.8, 'solarradiation': 600.2, 'solarenergy': 2.2, 'uvindex': 6.0, 'conditions': 'Partially cloudy', 'icon': 'partly-cloudy-day', 'stations': ['KHWO', '72202412882', '72203792809', 'KMIA', 'KOPF', '72202012839'], 'source': 'obs'}, {'datetime': '13:00:00', 'datetimeEpoch': 1421431200, 'temp': 71.1, 'feelslike': 71.1, 'humidity': 64.45, 'dew': 58.5, 'precip': 0.0, 'precipprob': 0.0, 'snow': 0.0, 'snowdepth': 0.0, 'preciptype': None, 'windgust': 22.6, 'windspeed': 14.5, 'winddir': 326.0, 'pressure': 1017.8, 'visibility': 9.9, 'cloudcover': 90.0, 'solarradiation': 478.2, 'solarenergy': 1.7, 'uvindex': 5.0, 'conditions': 'Partially cloudy', 'icon': 'partly-cloudy-day', 'stations': ['KHWO', '72202412882', '72203792809', 'KMIA', 'KOPF', '72202012839'], 'source': 'obs'}, {'datetime': '14:00:00', 'datetimeEpoch': 1421434800, 'temp': 66.7, 'feelslike': 66.7, 'humidity': 70.75, 'dew': 56.9, 'precip': 0.0, 'precipprob': 0.0, 'snow': 0.0, 'snowdepth': 0.0, 'preciptype': None, 'windgust': 21.9, 'windspeed': 14.5, 'winddir': 332.0, 'pressure': 1017.7, 'visibility': 9.9, 'cloudcover': 96.0, 'solarradiation': 412.8, 'solarenergy': 1.5, 'uvindex': 4.0, 'conditions': 'Overcast', 'icon': 'cloudy', 'stations': ['KHWO', '72202412882', '72203792809', 'KMIA', 'KOPF', '72202012839'], 'source': 'obs'}, {'datetime': '15:00:00', 'datetimeEpoch': 1421438400, 'temp': 68.6, 'feelslike': 68.6, 'humidity': 64.17, 'dew': 56.0, 'precip': 0.0, 'precipprob': 0.0, 'snow': 0.0, 'snowdepth': 0.0, 'preciptype': None, 'windgust': 24.4, 'windspeed': 12.0, 'winddir': 335.0, 'pressure': 1017.7, 'visibility': 9.9, 'cloudcover': 82.1, 'solarradiation': 302.9, 'solarenergy': 1.1, 'uvindex': 3.0, 'conditions': 'Partially cloudy', 'icon': 'partly-cloudy-day', 'stations': ['KHWO', '72202412882', '72203792809', 'KMIA', 'KOPF', '72202012839'], 'source': 'obs'}, {'datetime': '16:00:00', 'datetimeEpoch': 1421442000, 'temp': 69.3, 'feelslike': 69.3, 'humidity': 61.25, 'dew': 55.4, 'precip': 0.0, 'precipprob': 0.0, 'snow': 0.0, 'snowdepth': 0.0, 'preciptype': None, 'windgust': 17.2, 'windspeed': 11.4, 'winddir': 359.0, 'pressure': 1017.7, 'visibility': 9.9, 'cloudcover': 92.9, 'solarradiation': 187.8, 'solarenergy': 0.7, 'uvindex': 2.0, 'conditions': 'Overcast', 'icon': 'cloudy', 'stations': ['KHWO', '72202412882', '72203792809', 'KMIA', 'KOPF', '72202012839'], 'source': 'obs'}, {'datetime': '17:00:00', 'datetimeEpoch': 1421445600, 'temp': 70.1, 'feelslike': 70.1, 'humidity': 59.1, 'dew': 55.1, 'precip': 0.0, 'precipprob': 0.0, 'snow': 0.0, 'snowdepth': 0.0, 'preciptype': None, 'windgust': 22.8, 'windspeed': 5.8, 'winddir': 17.0, 'pressure': 1017.8, 'visibility': 9.9, 'cloudcover': 87.4, 'solarradiation': 93.2, 'solarenergy': 0.3, 'uvindex': 1.0, 'conditions': 'Partially cloudy', 'icon': 'partly-cloudy-day', 'stations': ['KHWO', '72202412882', '72203792809', 'KMIA', 'KOPF', '72202012839'], 'source': 'obs'}, {'datetime': '18:00:00', 'datetimeEpoch': 1421449200, 'temp': 68.9, 'feelslike': 68.9, 'humidity': 60.54, 'dew': 54.7, 'precip': 0.0, 'precipprob': 0.0, 'snow': 0.0, 'snowdepth': 0.0, 'preciptype': None, 'windgust': 21.9, 'windspeed': 7.7, 'winddir': 17.0, 'pressure': 1018.2, 'visibility': 9.9, 'cloudcover': 46.8, 'solarradiation': 24.1, 'solarenergy': 0.1, 'uvindex': 0.0, 'conditions': 'Partially cloudy', 'icon': 'partly-cloudy-night', 'stations': ['KHWO', '72202412882', '72203792809', 'KMIA', 'KOPF', '72202012839'], 'source': 'obs'}, {'datetime': '19:00:00', 'datetimeEpoch': 1421452800, 'temp': 66.4, 'feelslike': 66.4, 'humidity': 62.15, 'dew': 53.1, 'precip': 0.0, 'precipprob': 0.0, 'snow': None, 'snowdepth': 0.0, 'preciptype': None, 'windgust': 20.1, 'windspeed': 9.9, 'winddir': 38.0, 'pressure': 1018.8, 'visibility': 9.9, 'cloudcover': 56.4, 'solarradiation': 0.0, 'solarenergy': 0.0, 'uvindex': 0.0, 'conditions': 'Partially cloudy', 'icon': 'partly-cloudy-night', 'stations': ['KHWO', '72202412882', '72203792809', 'KMIA', 'KOPF', '72202012839'], 'source': 'obs'}, {'datetime': '20:00:00', 'datetimeEpoch': 1421456400, 'temp': 65.1, 'feelslike': 65.1, 'humidity': 57.96, 'dew': 50.0, 'precip': 0.0, 'precipprob': 0.0, 'snow': None, 'snowdepth': 0.0, 'preciptype': None, 'windgust': 20.4, 'windspeed': 4.0, 'winddir': 26.0, 'pressure': 1019.4, 'visibility': 9.9, 'cloudcover': 31.8, 'solarradiation': 0.0, 'solarenergy': 0.0, 'uvindex': 0.0, 'conditions': 'Partially cloudy', 'icon': 'partly-cloudy-night', 'stations': ['KHWO', '72202412882', '72203792809', 'KMIA', 'KOPF', '72202012839'], 'source': 'obs'}, {'datetime': '21:00:00', 'datetimeEpoch': 1421460000, 'temp': 64.1, 'feelslike': 64.1, 'humidity': 59.9, 'dew': 49.9, 'precip': 0.0, 'precipprob': 0.0, 'snow': None, 'snowdepth': 0.0, 'preciptype': None, 'windgust': 20.6, 'windspeed': 6.9, 'winddir': 23.0, 'pressure': 1019.5, 'visibility': 9.9, 'cloudcover': 0.0, 'solarradiation': 0.0, 'solarenergy': 0.0, 'uvindex': 0.0, 'conditions': 'Clear', 'icon': 'clear-night', 'stations': ['KHWO', '72202412882', '72203792809', 'KMIA', 'KOPF', '72202012839'], 'source': 'obs'}, {'datetime': '22:00:00', 'datetimeEpoch': 1421463600, 'temp': 63.2, 'feelslike': 63.2, 'humidity': 63.88, 'dew': 50.7, 'precip': 0.0, 'precipprob': 0.0, 'snow': None, 'snowdepth': 0.0, 'preciptype': None, 'windgust': 20.6, 'windspeed': 4.5, 'winddir': 7.0, 'pressure': 1019.9, 'visibility': 9.9, 'cloudcover': 31.8, 'solarradiation': 0.0, 'solarenergy': 0.0, 'uvindex': 0.0, 'conditions': 'Partially cloudy', 'icon': 'partly-cloudy-night', 'stations': ['KHWO', '72202412882', '72203792809', 'KMIA', 'KOPF', '72202012839'], 'source': 'obs'}, {'datetime': '23:00:00', 'datetimeEpoch': 1421467200, 'temp': 62.2, 'feelslike': 62.2, 'humidity': 71.78, 'dew': 53.0, 'precip': 0.0, 'precipprob': 0.0, 'snow': None, 'snowdepth': 0.0, 'preciptype': None, 'windgust': 21.3, 'windspeed': 8.5, 'winddir': 354.0, 'pressure': 1020.2, 'visibility': 9.9, 'cloudcover': 17.1, 'solarradiation': 0.0, 'solarenergy': 0.0, 'uvindex': 0.0, 'conditions': 'Clear', 'icon': 'clear-night', 'stations': ['KHWO', '72202412882', '72203792809', 'KMIA', 'KOPF', '72202012839'], 'source': 'obs'}]}], 'stations': {'KHWO': {'distance': 25277.0, 'latitude': 26.0, 'longitude': -80.23, 'useCount': 0, 'id': 'KHWO', 'name': 'KHWO', 'quality': 100, 'contribution': 0.0}, '72202412882': {'distance': 16874.0, 'latitude': 25.907, 'longitude': -80.28, 'useCount': 0, 'id': '72202412882', 'name': 'MIAMI OPA LOCKA AIRPORT, FL US', 'quality': 100, 'contribution': 0.0}, '72203792809': {'distance': 25323.0, 'latitude': 25.999, 'longitude': -80.241, 'useCount': 0, 'id': '72203792809', 'name': 'HOLLYWOOD NORTH PERRY AIRPORT, FL US', 'quality': 100, 'contribution': 0.0}, 'KMIA': {'distance': 9405.0, 'latitude': 25.79, 'longitude': -80.29, 'useCount': 0, 'id': 'KMIA', 'name': 'KMIA', 'quality': 100, 'contribution': 0.0}, 'KOPF': {'distance': 16194.0, 'latitude': 25.9, 'longitude': -80.28, 'useCount': 0, 'id': 'KOPF', 'name': 'KOPF', 'quality': 100, 'contribution': 0.0}, '72202012839': {'distance': 12040.0, 'latitude': 25.788, 'longitude': -80.317, 'useCount': 0, 'id': '72202012839', 'name': 'MIAMI INTERNATIONAL AIRPORT, FL US', 'quality': 100, 'contribution': 0.0}}}\n"
     ]
    }
   ],
   "source": [
    "import requests\n",
    "\n",
    "url = f\"https://weather.visualcrossing.com/VisualCrossingWebServices/rest/services/timeline/Miami/2015-01-11/2015-01-16?key=XER7B2RE72KSTRX2DXA2867WF\"\n",
    "response = requests.get(url)\n",
    "\n",
    "# Check if the response was successful\n",
    "if response.status_code == 200:\n",
    "    # Print the response content (assuming it is JSON)\n",
    "    try:\n",
    "        data = response.json()  # Parse the response as JSON\n",
    "        print(data)  # Print the parsed data\n",
    "    except ValueError:\n",
    "        print(\"Error: Response content is not in JSON format\")\n",
    "else:\n",
    "    print(f\"Error: Received response with status code {response.status_code}\")\n"
   ]
  },
  {
   "cell_type": "code",
   "execution_count": 26,
   "id": "8bb4a107",
   "metadata": {},
   "outputs": [
    {
     "ename": "NameError",
     "evalue": "name 'fetch_weather_data' is not defined",
     "output_type": "error",
     "traceback": [
      "\u001b[1;31m---------------------------------------------------------------------------\u001b[0m",
      "\u001b[1;31mNameError\u001b[0m                                 Traceback (most recent call last)",
      "Cell \u001b[1;32mIn[26], line 2\u001b[0m\n\u001b[0;32m      1\u001b[0m \u001b[38;5;66;03m# fetch_weather_data(\"Cork\",\"2015-01-16\",\"2015-01-17\")\u001b[39;00m\n\u001b[1;32m----> 2\u001b[0m fetch_weather_data(df2[\u001b[38;5;124m'\u001b[39m\u001b[38;5;124mPath2\u001b[39m\u001b[38;5;124m'\u001b[39m]\u001b[38;5;241m.\u001b[39miloc[\u001b[38;5;241m1\u001b[39m]\u001b[38;5;241m.\u001b[39miloc[\u001b[38;5;241m2\u001b[39m]\u001b[38;5;241m.\u001b[39mitem(), histo_dat[\u001b[38;5;241m1\u001b[39m][\u001b[38;5;124m'\u001b[39m\u001b[38;5;124mStart Date\u001b[39m\u001b[38;5;124m'\u001b[39m], histo_dat[\u001b[38;5;241m1\u001b[39m][\u001b[38;5;124m'\u001b[39m\u001b[38;5;124mEnd Date\u001b[39m\u001b[38;5;124m'\u001b[39m])\n",
      "\u001b[1;31mNameError\u001b[0m: name 'fetch_weather_data' is not defined"
     ]
    }
   ],
   "source": [
    "# fetch_weather_data(\"Cork\",\"2015-01-16\",\"2015-01-17\")\n",
    "fetch_weather_data(df2['Path2'].iloc[1].iloc[2].item(), histo_dat[1]['Start Date'], histo_dat[1]['End Date'])\n",
    "# l=df2['Path2'].iloc[1].iloc[1]\n",
    "# k=l.item()\n",
    "# k\n",
    "\n",
    "# df2['Path2'].iloc[1].iloc[2].item()"
   ]
  },
  {
   "cell_type": "code",
   "execution_count": null,
   "id": "b7a5e4a3",
   "metadata": {},
   "outputs": [],
   "source": [
    "df2['Path2'].iloc[1].iloc[2], histo_dat[1]['Start Date'], histo_dat[1]['End Date']"
   ]
  },
  {
   "cell_type": "code",
   "execution_count": 27,
   "id": "676670c6",
   "metadata": {},
   "outputs": [],
   "source": [
    "# Define function to fetch weather data\n",
    "def fetch_weather_data(city, start_date, end_date):\n",
    "    api_key = \"FBEMAY2RDDD3646FG2AXZ55WV\"\n",
    "    url = f\"https://weather.visualcrossing.com/VisualCrossingWebServices/rest/services/timeline/{city}/{start_date}/{end_date}?key={api_key}&include=days\"\n",
    "    response = requests.get(url)\n",
    "    # Check if the response was successful\n",
    "    if response.status_code == 200:\n",
    "    # Print the response content (assuming it is JSON)\n",
    "        try:\n",
    "            data = response.json()  # Parse the response as JSON\n",
    "            return(pd.DataFrame(data[\"days\"]))  # Print the parsed data\n",
    "        except ValueError:\n",
    "            print(\"Error: Response content is not in JSON format\")\n",
    "    else:\n",
    "        print(f\"Error: Received response with status code {response.status_code}\")\n",
    "        "
   ]
  },
  {
   "cell_type": "code",
   "execution_count": 28,
   "id": "9dff7017",
   "metadata": {},
   "outputs": [
    {
     "ename": "NameError",
     "evalue": "name 'df2' is not defined",
     "output_type": "error",
     "traceback": [
      "\u001b[1;31m---------------------------------------------------------------------------\u001b[0m",
      "\u001b[1;31mNameError\u001b[0m                                 Traceback (most recent call last)",
      "Cell \u001b[1;32mIn[28], line 4\u001b[0m\n\u001b[0;32m      2\u001b[0m \u001b[38;5;66;03m# Prepare date ranges and fetch weather data\u001b[39;00m\n\u001b[0;32m      3\u001b[0m histo_dat \u001b[38;5;241m=\u001b[39m []\n\u001b[1;32m----> 4\u001b[0m \u001b[38;5;28;01mfor\u001b[39;00m index, row \u001b[38;5;129;01min\u001b[39;00m df2\u001b[38;5;241m.\u001b[39miterrows():\n\u001b[0;32m      5\u001b[0m     date_str \u001b[38;5;241m=\u001b[39m row[\u001b[38;5;124m'\u001b[39m\u001b[38;5;124mDate\u001b[39m\u001b[38;5;124m'\u001b[39m]\n\u001b[0;32m      6\u001b[0m     \u001b[38;5;28;01mtry\u001b[39;00m:\n",
      "\u001b[1;31mNameError\u001b[0m: name 'df2' is not defined"
     ]
    }
   ],
   "source": [
    "from datetime import datetime, timedelta\n",
    "# Prepare date ranges and fetch weather data\n",
    "histo_dat = []\n",
    "for index, row in df2.iterrows():\n",
    "    date_str = row['Date']\n",
    "    try:\n",
    "        date_obj = datetime.strptime(date_str, '%d-%m-%Y')\n",
    "        start_date = (date_obj - timedelta(days=5)).strftime('%Y-%m-%d')\n",
    "        end_date = date_obj.strftime('%Y-%m-%d')\n",
    "        histo_dat.append({\n",
    "                'Start Date': start_date,\n",
    "                'End Date': end_date,\n",
    "            })\n",
    "    except ValueError:\n",
    "        # Skip rows with invalid date format\n",
    "        continue\n",
    "\n",
    "\n",
    "            "
   ]
  },
  {
   "cell_type": "code",
   "execution_count": 29,
   "id": "05e21a2a",
   "metadata": {},
   "outputs": [
    {
     "ename": "NameError",
     "evalue": "name 'df2' is not defined",
     "output_type": "error",
     "traceback": [
      "\u001b[1;31m---------------------------------------------------------------------------\u001b[0m",
      "\u001b[1;31mNameError\u001b[0m                                 Traceback (most recent call last)",
      "Cell \u001b[1;32mIn[29], line 4\u001b[0m\n\u001b[0;32m      2\u001b[0m \u001b[38;5;66;03m# Prepare date ranges and fetch weather data\u001b[39;00m\n\u001b[0;32m      3\u001b[0m forecast_date \u001b[38;5;241m=\u001b[39m []\n\u001b[1;32m----> 4\u001b[0m \u001b[38;5;28;01mfor\u001b[39;00m index, row \u001b[38;5;129;01min\u001b[39;00m df2\u001b[38;5;241m.\u001b[39miterrows():\n\u001b[0;32m      5\u001b[0m     date_str \u001b[38;5;241m=\u001b[39m row[\u001b[38;5;124m'\u001b[39m\u001b[38;5;124mDate\u001b[39m\u001b[38;5;124m'\u001b[39m]\n\u001b[0;32m      6\u001b[0m     \u001b[38;5;28;01mtry\u001b[39;00m:\n",
      "\u001b[1;31mNameError\u001b[0m: name 'df2' is not defined"
     ]
    }
   ],
   "source": [
    "from datetime import datetime, timedelta\n",
    "# Prepare date ranges and fetch weather data\n",
    "forecast_date = []\n",
    "for index, row in df2.iterrows():\n",
    "    date_str = row['Date']\n",
    "    try:\n",
    "        date_obj = datetime.strptime(date_str, '%d-%m-%Y')\n",
    "        start_date = date_obj.strftime('%Y-%m-%d')\n",
    "        end_date = (date_obj + timedelta(days=row[\"Days for shipping (real)\"])).strftime('%Y-%m-%d')\n",
    "        forecast_date.append({\n",
    "                'Start Date': start_date,\n",
    "                'End Date': end_date,\n",
    "            })\n",
    "    except ValueError:\n",
    "        # Skip rows with invalid date format\n",
    "        continue\n",
    "\n",
    "\n",
    "            "
   ]
  },
  {
   "cell_type": "code",
   "execution_count": 30,
   "id": "e7f7fe04",
   "metadata": {},
   "outputs": [],
   "source": [
    "# histo_dat"
   ]
  },
  {
   "cell_type": "code",
   "execution_count": 31,
   "id": "50c0b810",
   "metadata": {},
   "outputs": [],
   "source": [
    "# forecast_date"
   ]
  },
  {
   "cell_type": "code",
   "execution_count": 32,
   "id": "733236cc",
   "metadata": {},
   "outputs": [
    {
     "name": "stdout",
     "output_type": "stream",
     "text": [
      "Insufficient data for VAR model fitting\n"
     ]
    },
    {
     "data": {
      "text/html": [
       "<div>\n",
       "<style scoped>\n",
       "    .dataframe tbody tr th:only-of-type {\n",
       "        vertical-align: middle;\n",
       "    }\n",
       "\n",
       "    .dataframe tbody tr th {\n",
       "        vertical-align: top;\n",
       "    }\n",
       "\n",
       "    .dataframe thead th {\n",
       "        text-align: right;\n",
       "    }\n",
       "</style>\n",
       "<table border=\"1\" class=\"dataframe\">\n",
       "  <thead>\n",
       "    <tr style=\"text-align: right;\">\n",
       "      <th></th>\n",
       "      <th>datetime</th>\n",
       "      <th>datetimeEpoch</th>\n",
       "      <th>tempmax</th>\n",
       "      <th>tempmin</th>\n",
       "      <th>temp</th>\n",
       "      <th>feelslikemax</th>\n",
       "      <th>feelslikemin</th>\n",
       "      <th>feelslike</th>\n",
       "      <th>dew</th>\n",
       "      <th>humidity</th>\n",
       "      <th>...</th>\n",
       "      <th>solarenergy</th>\n",
       "      <th>uvindex</th>\n",
       "      <th>sunrise</th>\n",
       "      <th>sunriseEpoch</th>\n",
       "      <th>sunset</th>\n",
       "      <th>sunsetEpoch</th>\n",
       "      <th>moonphase</th>\n",
       "      <th>conditions</th>\n",
       "      <th>description</th>\n",
       "      <th>icon</th>\n",
       "    </tr>\n",
       "  </thead>\n",
       "  <tbody>\n",
       "  </tbody>\n",
       "</table>\n",
       "<p>0 rows × 31 columns</p>\n",
       "</div>"
      ],
      "text/plain": [
       "Empty DataFrame\n",
       "Columns: [datetime, datetimeEpoch, tempmax, tempmin, temp, feelslikemax, feelslikemin, feelslike, dew, humidity, precip, precipprob, precipcover, preciptype, windgust, windspeed, winddir, pressure, cloudcover, visibility, solarradiation, solarenergy, uvindex, sunrise, sunriseEpoch, sunset, sunsetEpoch, moonphase, conditions, description, icon]\n",
       "Index: []\n",
       "\n",
       "[0 rows x 31 columns]"
      ]
     },
     "execution_count": 32,
     "metadata": {},
     "output_type": "execute_result"
    }
   ],
   "source": [
    "from statsmodels.tsa.vector_ar.var_model import VAR\n",
    "import pandas as pd\n",
    "\n",
    "def forecast_weather(city, start_date_hist, end_date_hist, start_date_forecast, end_date_forecast):\n",
    "    # Fetch historical weather data\n",
    "    df_hist = fetch_weather_data(city, start_date_hist, end_date_hist)\n",
    "    \n",
    "    if df_hist is None:\n",
    "        print(\"Failed to fetch historical weather data\")\n",
    "        return None\n",
    "\n",
    "    # Filter out constant columns from df_hist\n",
    "    df_hist_filtered = df_hist.loc[:, (df_hist != df_hist.iloc[0]).any()]\n",
    "\n",
    "    # Ensure numeric data types\n",
    "    df_hist_filtered = df_hist_filtered.apply(pd.to_numeric, errors='coerce')\n",
    "\n",
    "    # Check for NaN values and handle them appropriately (fill with mean, median, or dropna)\n",
    "    df_hist_filtered = df_hist_filtered.dropna()\n",
    "\n",
    "    # Check if there's sufficient data\n",
    "    if len(df_hist_filtered) < 5:  # Adjust this number based on your data requirements\n",
    "        print(\"Insufficient data for VAR model fitting\")\n",
    "        return df_hist_filtered\n",
    "\n",
    "    # Fit the VAR model\n",
    "    try:\n",
    "        model = VAR(df_hist_filtered)\n",
    "        model_fit = model.fit(maxlags=3)  # Adjust maxlags as needed\n",
    "\n",
    "        # Forecast\n",
    "        forecast_steps = (end_date_forecast - start_date_forecast).days + 1\n",
    "        forecast = model_fit.forecast(df_hist_filtered.values[-model_fit.k_ar:], steps=forecast_steps)\n",
    "\n",
    "        # Create a DataFrame for the forecast\n",
    "        forecast_df = pd.DataFrame(forecast, index=pd.date_range(start=start_date_forecast, periods=forecast_steps, closed='right'), columns=df_hist_filtered.columns)\n",
    "\n",
    "        # Print the forecast (optional)\n",
    "        print(forecast_df)\n",
    "\n",
    "        return forecast_df\n",
    "\n",
    "    except Exception as e:\n",
    "        print(f\"Error fitting VAR model: {str(e)}\")\n",
    "        return None\n",
    "\n",
    "# Example usage\n",
    "forecast_weather(\"cork\", \"2015-05-10\", \"2015-06-10\", \"2015-06-11\", \"2015-06-12\")\n"
   ]
  },
  {
   "cell_type": "code",
   "execution_count": 33,
   "id": "47721340",
   "metadata": {},
   "outputs": [
    {
     "name": "stdout",
     "output_type": "stream",
     "text": [
      "<class 'pandas.core.frame.DataFrame'>\n",
      "RangeIndex: 6 entries, 0 to 5\n",
      "Data columns (total 31 columns):\n",
      " #   Column          Non-Null Count  Dtype  \n",
      "---  ------          --------------  -----  \n",
      " 0   datetime        6 non-null      object \n",
      " 1   datetimeEpoch   6 non-null      int64  \n",
      " 2   tempmax         6 non-null      float64\n",
      " 3   tempmin         6 non-null      float64\n",
      " 4   temp            6 non-null      float64\n",
      " 5   feelslikemax    6 non-null      float64\n",
      " 6   feelslikemin    6 non-null      float64\n",
      " 7   feelslike       6 non-null      float64\n",
      " 8   dew             6 non-null      float64\n",
      " 9   humidity        6 non-null      float64\n",
      " 10  precip          6 non-null      float64\n",
      " 11  precipprob      6 non-null      float64\n",
      " 12  precipcover     6 non-null      float64\n",
      " 13  preciptype      1 non-null      object \n",
      " 14  windgust        1 non-null      float64\n",
      " 15  windspeed       6 non-null      float64\n",
      " 16  winddir         6 non-null      float64\n",
      " 17  pressure        6 non-null      float64\n",
      " 18  cloudcover      6 non-null      float64\n",
      " 19  visibility      6 non-null      float64\n",
      " 20  solarradiation  0 non-null      object \n",
      " 21  solarenergy     0 non-null      object \n",
      " 22  uvindex         0 non-null      object \n",
      " 23  sunrise         6 non-null      object \n",
      " 24  sunriseEpoch    6 non-null      int64  \n",
      " 25  sunset          6 non-null      object \n",
      " 26  sunsetEpoch     6 non-null      int64  \n",
      " 27  moonphase       6 non-null      float64\n",
      " 28  conditions      6 non-null      object \n",
      " 29  description     6 non-null      object \n",
      " 30  icon            6 non-null      object \n",
      "dtypes: float64(18), int64(3), object(10)\n",
      "memory usage: 1.6+ KB\n"
     ]
    }
   ],
   "source": [
    "l=fetch_weather_data(\"cork\", \"2015-06-05\", \"2015-06-10\")\n",
    "df_hist_filtered = l.loc[:, (l != l.iloc[0]).any()]\n",
    "# df_hist_filtered = df_hist_filtered.apply(pd.to_numeric, errors='coerce')\n",
    "# df_hist_filtered = df_hist_filtered.dropna()\n",
    "# df_hist_filtered.isna().sum()\n",
    "df_hist_filtered.info()"
   ]
  },
  {
   "cell_type": "code",
   "execution_count": 34,
   "id": "5ea4a016",
   "metadata": {},
   "outputs": [
    {
     "ename": "NameError",
     "evalue": "name 'df2' is not defined",
     "output_type": "error",
     "traceback": [
      "\u001b[1;31m---------------------------------------------------------------------------\u001b[0m",
      "\u001b[1;31mNameError\u001b[0m                                 Traceback (most recent call last)",
      "Cell \u001b[1;32mIn[34], line 6\u001b[0m\n\u001b[0;32m      3\u001b[0m results \u001b[38;5;241m=\u001b[39m []\n\u001b[0;32m      5\u001b[0m \u001b[38;5;66;03m# Assuming df2, histo_dat, and forecast_date are defined and structured appropriately\u001b[39;00m\n\u001b[1;32m----> 6\u001b[0m \u001b[38;5;28;01mfor\u001b[39;00m i, path \u001b[38;5;129;01min\u001b[39;00m \u001b[38;5;28menumerate\u001b[39m(df2[\u001b[38;5;124m'\u001b[39m\u001b[38;5;124mPath2\u001b[39m\u001b[38;5;124m'\u001b[39m]):\n\u001b[0;32m      7\u001b[0m     city_forecast \u001b[38;5;241m=\u001b[39m {}\n\u001b[0;32m      8\u001b[0m     \u001b[38;5;28;01mfor\u001b[39;00m city \u001b[38;5;129;01min\u001b[39;00m path:\n",
      "\u001b[1;31mNameError\u001b[0m: name 'df2' is not defined"
     ]
    }
   ],
   "source": [
    "import requests\n",
    "# Collect results in a list\n",
    "results = []\n",
    "\n",
    "# Assuming df2, histo_dat, and forecast_date are defined and structured appropriately\n",
    "for i, path in enumerate(df2['Path2']):\n",
    "    city_forecast = {}\n",
    "    for city in path:\n",
    "        forecast_df = forecast_weather(city, histo_dat[i]['Start Date'], histo_dat[i]['End Date'], forecast_date[i]['Start Date'], forecast_date[i]['End Date'])\n",
    "        if forecast_df is not None:\n",
    "            city_forecast[city] = forecast_df\n",
    "    results.append(city_forecast)"
   ]
  },
  {
   "cell_type": "code",
   "execution_count": null,
   "id": "9a7f1a71",
   "metadata": {},
   "outputs": [],
   "source": [
    "df2.Path2.iloc[1]"
   ]
  },
  {
   "cell_type": "code",
   "execution_count": 35,
   "id": "59a383c8",
   "metadata": {},
   "outputs": [
    {
     "ename": "IndexError",
     "evalue": "list index out of range",
     "output_type": "error",
     "traceback": [
      "\u001b[1;31m---------------------------------------------------------------------------\u001b[0m",
      "\u001b[1;31mIndexError\u001b[0m                                Traceback (most recent call last)",
      "Cell \u001b[1;32mIn[35], line 1\u001b[0m\n\u001b[1;32m----> 1\u001b[0m histo_dat[\u001b[38;5;241m1\u001b[39m][\u001b[38;5;124m'\u001b[39m\u001b[38;5;124mStart Date\u001b[39m\u001b[38;5;124m'\u001b[39m], histo_dat[\u001b[38;5;241m1\u001b[39m][\u001b[38;5;124m'\u001b[39m\u001b[38;5;124mEnd Date\u001b[39m\u001b[38;5;124m'\u001b[39m], forecast_date[\u001b[38;5;241m1\u001b[39m][\u001b[38;5;124m'\u001b[39m\u001b[38;5;124mStart Date\u001b[39m\u001b[38;5;124m'\u001b[39m], forecast_date[\u001b[38;5;241m1\u001b[39m][\u001b[38;5;124m'\u001b[39m\u001b[38;5;124mEnd Date\u001b[39m\u001b[38;5;124m'\u001b[39m]\n",
      "\u001b[1;31mIndexError\u001b[0m: list index out of range"
     ]
    }
   ],
   "source": [
    "histo_dat[1]['Start Date'], histo_dat[1]['End Date'], forecast_date[1]['Start Date'], forecast_date[1]['End Date']"
   ]
  },
  {
   "cell_type": "code",
   "execution_count": null,
   "id": "a1bb0a24",
   "metadata": {},
   "outputs": [],
   "source": [
    "df2['Path2'].iloc[1].iloc[1]"
   ]
  },
  {
   "cell_type": "code",
   "execution_count": 36,
   "id": "7425d103",
   "metadata": {},
   "outputs": [
    {
     "ename": "NameError",
     "evalue": "name 'k' is not defined",
     "output_type": "error",
     "traceback": [
      "\u001b[1;31m---------------------------------------------------------------------------\u001b[0m",
      "\u001b[1;31mNameError\u001b[0m                                 Traceback (most recent call last)",
      "Cell \u001b[1;32mIn[36], line 2\u001b[0m\n\u001b[0;32m      1\u001b[0m \u001b[38;5;66;03m# Convert to DataFrame\u001b[39;00m\n\u001b[1;32m----> 2\u001b[0m dtta \u001b[38;5;241m=\u001b[39m pd\u001b[38;5;241m.\u001b[39mDataFrame(k[\u001b[38;5;124m'\u001b[39m\u001b[38;5;124mdays\u001b[39m\u001b[38;5;124m'\u001b[39m][\u001b[38;5;241m0\u001b[39m][\u001b[38;5;124m'\u001b[39m\u001b[38;5;124mhours\u001b[39m\u001b[38;5;124m'\u001b[39m])\n\u001b[0;32m      4\u001b[0m dtta\n",
      "\u001b[1;31mNameError\u001b[0m: name 'k' is not defined"
     ]
    }
   ],
   "source": [
    "# Convert to DataFrame\n",
    "dtta = pd.DataFrame(k['days'][0]['hours'])\n",
    "\n",
    "dtta"
   ]
  },
  {
   "cell_type": "code",
   "execution_count": null,
   "id": "9e625477",
   "metadata": {},
   "outputs": [],
   "source": [
    "dta"
   ]
  },
  {
   "cell_type": "code",
   "execution_count": null,
   "id": "e847b460",
   "metadata": {},
   "outputs": [],
   "source": []
  },
  {
   "cell_type": "code",
   "execution_count": null,
   "id": "7cdfe931",
   "metadata": {},
   "outputs": [],
   "source": []
  },
  {
   "cell_type": "code",
   "execution_count": null,
   "id": "7a71141b",
   "metadata": {},
   "outputs": [],
   "source": []
  },
  {
   "cell_type": "code",
   "execution_count": null,
   "id": "09033770",
   "metadata": {},
   "outputs": [],
   "source": []
  },
  {
   "cell_type": "code",
   "execution_count": null,
   "id": "d3c3826b",
   "metadata": {},
   "outputs": [],
   "source": []
  },
  {
   "cell_type": "code",
   "execution_count": null,
   "id": "30c3db3d",
   "metadata": {},
   "outputs": [],
   "source": []
  },
  {
   "cell_type": "code",
   "execution_count": null,
   "id": "45436d8c",
   "metadata": {},
   "outputs": [],
   "source": []
  },
  {
   "cell_type": "code",
   "execution_count": null,
   "id": "7ba23fb4",
   "metadata": {},
   "outputs": [],
   "source": []
  },
  {
   "cell_type": "code",
   "execution_count": null,
   "id": "cb56f71b",
   "metadata": {},
   "outputs": [],
   "source": []
  },
  {
   "cell_type": "code",
   "execution_count": null,
   "id": "5fcf7a63",
   "metadata": {},
   "outputs": [],
   "source": []
  },
  {
   "cell_type": "code",
   "execution_count": null,
   "id": "a11e775d",
   "metadata": {},
   "outputs": [],
   "source": []
  },
  {
   "cell_type": "code",
   "execution_count": null,
   "id": "0002f9e4",
   "metadata": {},
   "outputs": [],
   "source": []
  },
  {
   "cell_type": "code",
   "execution_count": null,
   "id": "5611ddcd",
   "metadata": {},
   "outputs": [],
   "source": []
  },
  {
   "cell_type": "code",
   "execution_count": null,
   "id": "abc5f5ec",
   "metadata": {},
   "outputs": [],
   "source": []
  },
  {
   "cell_type": "code",
   "execution_count": null,
   "id": "36270edb",
   "metadata": {},
   "outputs": [],
   "source": []
  },
  {
   "cell_type": "code",
   "execution_count": null,
   "id": "3a3cd4e8",
   "metadata": {},
   "outputs": [],
   "source": []
  },
  {
   "cell_type": "code",
   "execution_count": null,
   "id": "88f63791",
   "metadata": {},
   "outputs": [],
   "source": []
  },
  {
   "cell_type": "code",
   "execution_count": null,
   "id": "53541f86",
   "metadata": {},
   "outputs": [],
   "source": []
  }
 ],
 "metadata": {
  "kernelspec": {
   "display_name": "Python 3 (ipykernel)",
   "language": "python",
   "name": "python3"
  },
  "language_info": {
   "codemirror_mode": {
    "name": "ipython",
    "version": 3
   },
   "file_extension": ".py",
   "mimetype": "text/x-python",
   "name": "python",
   "nbconvert_exporter": "python",
   "pygments_lexer": "ipython3",
   "version": "3.11.4"
  }
 },
 "nbformat": 4,
 "nbformat_minor": 5
}
